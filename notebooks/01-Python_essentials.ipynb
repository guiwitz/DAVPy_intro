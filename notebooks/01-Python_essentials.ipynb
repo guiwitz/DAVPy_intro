{
 "cells": [
  {
   "cell_type": "markdown",
   "id": "66ce7a2d-ac19-4dbf-9690-e6ccfe41b4cf",
   "metadata": {},
   "source": [
    "# Notebooks basics\n",
    "\n",
    "In this first chapter, we will cover the bare minimum of Python and notebooks, just to get you started. We will discover additional topics like data structures, flow control (if, for etc.) in applied examples during the first part of this course.  "
   ]
  },
  {
   "cell_type": "markdown",
   "id": "7a5a9ee6-911a-4f99-84b1-9a5bde1d542b",
   "metadata": {},
   "source": [
    "## What is a notebook\n",
    "\n",
    "This document is a Jupyter notebook. It is split in many parts called cells, which can contain simple text (like this current cell) or lines of codes to execute. Cells can be in two states: either editing when you are working inside a cell. In this case the cell is white: <img src='illustrations/active_cell.png'>\n",
    "\n",
    "or it can be inactive in which case it is gray: <img src='illustrations/inactive_cell.png'>. \n",
    "\n",
    "You need your cell to be active to edit its content. However if you want to act globally on the cell, e.g. if you want to copy the entire cell and not just part of its content, it needs to be inactive. To make the cell active, just click (or double-click) inside it. To come back to inactive state, use ```Esc```.\n",
    "\n",
    "The most commonly used commands in the notebook can be found in the small menu at the top of the notebook but there are also a few very useful shortcuts that you should know: <img src='illustrations/cell_type.png'>"
   ]
  },
  {
   "cell_type": "markdown",
   "id": "0c32e7c7-01b7-426e-b48e-b9ca309e6dd3",
   "metadata": {},
   "source": [
    "## Adding/removing cells\n",
    "\n",
    "You can have as many cells as you want in a notebook. To add a new cell below your current position, you can use the ```+``` button and to suppress it you can just cut it with the scissors. I it is however useful to remember two shortcuts: **when your cell is inactive (press ```Esc```**), you can:\n",
    "- type B to add a cell below the current one\n",
    "- type A to add a cell above the current one\n",
    "- type DD (twice D) to remove the current cell"
   ]
  },
  {
   "cell_type": "markdown",
   "id": "f2a12d12-fe14-4655-a22b-9d0038aed30e",
   "metadata": {},
   "source": [
    "## Cell type\n",
    "\n",
    "Cells can exist in two types: they can either contain text, like the current cell, or they can contain code to be executed. We need to tell Jupyter the type of a given cell. This can be done using the above menu and selecting either ```Markdown``` for a text cell or ```Code``` for a code cell.\n",
    "\n",
    "### Text cell\n",
    "\n",
    "Text cells can contain basic formatting via the Markdown markup language. For example **to write in bold** you need to surround you text with two stars ```**this will be bold text**```. You can just look at how formatting is done by double-clicking on a text cell to reveal the \"marks\". You can also find many guides online such as [this one](https://docs.github.com/en/get-started/writing-on-github/getting-started-with-writing-and-formatting-on-github/basic-writing-and-formatting-syntax).\n",
    "\n",
    "### Code cell\n",
    "\n",
    "When a cell has code type, its content is automatically colored to highlight specific elements of the programming language syntax. For example in the cell below, you can see that specific words are shown in green, the plus sign is magenta etc."
   ]
  },
  {
   "cell_type": "code",
   "execution_count": 2,
   "id": "d7a7da02-f35f-43fa-b1ee-18adcb775f47",
   "metadata": {},
   "outputs": [],
   "source": [
    "def myfun(x):\n",
    "    return x+3"
   ]
  },
  {
   "cell_type": "markdown",
   "id": "cc685b3a-4ebf-4f7c-a844-3a7f8e600ece",
   "metadata": {},
   "source": [
    "## Code execution\n",
    "\n",
    "Let's write our first line of code in the cell below. Here we just define a variable ```a``` and assign it a value as we would do in mathematics (more on variables later):"
   ]
  },
  {
   "cell_type": "code",
   "execution_count": 3,
   "id": "d46ab816-d4a2-4475-a713-9f6eacc87ef1",
   "metadata": {},
   "outputs": [],
   "source": [
    "a = 5"
   ]
  },
  {
   "cell_type": "markdown",
   "id": "2bb7f12f-3cb4-41e7-9b29-8db12e269ca8",
   "metadata": {},
   "source": [
    "As long as we don't **execute** the cell, the above line of code is just text, i.e. that variable ```a``` cannot be reused anywhere else in your notebooks. To execute the cell, you can hit the play button in the menu above, or you can just hit *Shit + Enter*. Once you do that, ```a``` is stored in memory and can be reused. The same is valid *for any line of code*. As long as it's not executed it is just text.\n",
    "\n",
    "Note that **variables are shared across the whole notebook**. Your notebook can be split in as many cells as you want, but variables across cells are **shared**.\n",
    "\n",
    "If we close or restart our Jupyter session for example with <img src='../illustrations/reinitialize_button.png' width=30>, we will still have the line stating ```a = 5``` but the notebook will not be \"aware\" that this variable has been defined and so we can't re-use anywhere else. For example if we restart the notebook now and ask for ```a```, we get:"
   ]
  },
  {
   "cell_type": "code",
   "execution_count": 1,
   "id": "26f4c3a0-19f9-475f-ba34-d904a65f69c6",
   "metadata": {},
   "outputs": [
    {
     "ename": "NameError",
     "evalue": "name 'a' is not defined",
     "output_type": "error",
     "traceback": [
      "\u001b[0;31m---------------------------------------------------------------------------\u001b[0m",
      "\u001b[0;31mNameError\u001b[0m                                 Traceback (most recent call last)",
      "Input \u001b[0;32mIn [1]\u001b[0m, in \u001b[0;36m<module>\u001b[0;34m\u001b[0m\n\u001b[0;32m----> 1\u001b[0m \u001b[43ma\u001b[49m\n",
      "\u001b[0;31mNameError\u001b[0m: name 'a' is not defined"
     ]
    }
   ],
   "source": [
    "a"
   ]
  },
  {
   "cell_type": "markdown",
   "id": "2cdbbe66-1a75-4aea-b70a-8e50446a4098",
   "metadata": {},
   "source": [
    "The message that you see above is an error message telling you something went wrong during execution of that cell. In this case, it's quite clear with the explanation ```name 'a' is not defined```."
   ]
  },
  {
   "cell_type": "markdown",
   "id": "7546afa1-eac9-4f3d-985f-2416fc82eff3",
   "metadata": {},
   "source": [
    "## Variables\n",
    "\n",
    "In the code line above we have defined a *variable*. This is the same principle as when we define a variable in mathematics: it's a representation of a number that can take different values and that we can re-use across equations. Just like in mathematics we can define variables of different nature. For example we can define that a variable is an integer, or a matrix or even a function.\n",
    "\n",
    "As you have seen above, Python has a very natural way of defining variables, just like in mathematics:"
   ]
  },
  {
   "cell_type": "code",
   "execution_count": 2,
   "id": "a5f45def-9bf7-4a6a-a000-f068cc84d802",
   "metadata": {},
   "outputs": [],
   "source": [
    "a = 3"
   ]
  },
  {
   "cell_type": "markdown",
   "id": "6a062da5-000e-4ec2-b2c7-4cc9e541b5c7",
   "metadata": {},
   "source": [
    "Note that this is different from many other languages where often variables have to be defined *before* giving them a value."
   ]
  },
  {
   "cell_type": "markdown",
   "id": "be2f1926-ca1b-4dbb-a687-4b52c1848605",
   "metadata": {},
   "source": [
    "If a variable has been defined and we just add it to a cell end execute, we get:"
   ]
  },
  {
   "cell_type": "code",
   "execution_count": 3,
   "id": "0e707ec1-816c-4eb3-868f-7981c09e0544",
   "metadata": {},
   "outputs": [
    {
     "data": {
      "text/plain": [
       "3"
      ]
     },
     "execution_count": 3,
     "metadata": {},
     "output_type": "execute_result"
    }
   ],
   "source": [
    "a"
   ]
  },
  {
   "cell_type": "markdown",
   "id": "2ea635b0-bb5f-4ffb-a956-6df964776c3b",
   "metadata": {},
   "source": [
    "We see that now we get an *output* with the value three. Most variables display an output when they are not involved in an operation. For example the line ```a=3``` didn't have an output.\n",
    "\n",
    "Now we can define other variables in a new cell. Note that we can put as **many lines** of commands as we want in a single cell. Each command just need to be on a new line."
   ]
  },
  {
   "cell_type": "code",
   "execution_count": 4,
   "id": "bd710972-659a-493c-9494-4f5b5b988ce5",
   "metadata": {},
   "outputs": [],
   "source": [
    "b = 5\n",
    "c = 2"
   ]
  },
  {
   "cell_type": "markdown",
   "id": "481a39ad-ba13-4622-b7f1-6d9fec4debac",
   "metadata": {},
   "source": [
    "As variables are defined for the entire notebook we can combine information that comes from multiple cells. Here we do some basic mathematics:"
   ]
  },
  {
   "cell_type": "code",
   "execution_count": 5,
   "id": "d0dfab15-7155-4799-b2ba-39bc72034b44",
   "metadata": {},
   "outputs": [
    {
     "data": {
      "text/plain": [
       "8"
      ]
     },
     "execution_count": 5,
     "metadata": {},
     "output_type": "execute_result"
    }
   ],
   "source": [
    "a + b"
   ]
  },
  {
   "cell_type": "markdown",
   "id": "30bd6648-6a78-4439-b01c-2c5e75a7e1b7",
   "metadata": {},
   "source": [
    "Here we only see the output. We can't re-use that ouput for further calculations as we didn't define a new variable to contain it. Here we do it:"
   ]
  },
  {
   "cell_type": "code",
   "execution_count": 6,
   "id": "d8d7d721-0b21-45ac-a06d-900badb3bb25",
   "metadata": {},
   "outputs": [],
   "source": [
    "d = a + b"
   ]
  },
  {
   "cell_type": "code",
   "execution_count": 7,
   "id": "071dd223-47e3-489b-96f0-7c0745940a29",
   "metadata": {},
   "outputs": [
    {
     "data": {
      "text/plain": [
       "8"
      ]
     },
     "execution_count": 7,
     "metadata": {},
     "output_type": "execute_result"
    }
   ],
   "source": [
    "d"
   ]
  },
  {
   "cell_type": "markdown",
   "id": "09779ac4-e719-4a7d-b101-b23c68c60e70",
   "metadata": {},
   "source": [
    "```d``` is now a new variable. It is purely numerical and not a mathematical formula as the above cell could make you believe. For example if we change the value of ```a```:"
   ]
  },
  {
   "cell_type": "code",
   "execution_count": 8,
   "id": "b13f612f-f9a2-4bf0-8dae-8a9b44e29a00",
   "metadata": {},
   "outputs": [],
   "source": [
    "a = 100"
   ]
  },
  {
   "cell_type": "markdown",
   "id": "039d2d0d-7e53-4ddb-82ca-f46c6c27bfbf",
   "metadata": {},
   "source": [
    "and check the value of ```d```:"
   ]
  },
  {
   "cell_type": "code",
   "execution_count": 9,
   "id": "1c3757c0-1896-4e4c-8f62-5980198fce43",
   "metadata": {},
   "outputs": [
    {
     "data": {
      "text/plain": [
       "8"
      ]
     },
     "execution_count": 9,
     "metadata": {},
     "output_type": "execute_result"
    }
   ],
   "source": [
    "d"
   ]
  },
  {
   "cell_type": "markdown",
   "id": "af99b1fd-33ff-43f8-a0fb-c1433bba7c99",
   "metadata": {},
   "source": [
    "it has not changed. We would have to rerun the operation and assign it again to ```d``` for it to update:"
   ]
  },
  {
   "cell_type": "code",
   "execution_count": 10,
   "id": "65deff88-bef2-457d-9eef-7fe312a6552c",
   "metadata": {},
   "outputs": [
    {
     "data": {
      "text/plain": [
       "105"
      ]
     },
     "execution_count": 10,
     "metadata": {},
     "output_type": "execute_result"
    }
   ],
   "source": [
    "d = a + b\n",
    "d"
   ]
  },
  {
   "cell_type": "markdown",
   "id": "d7c10065-ad58-4f8b-827d-c77408c516d6",
   "metadata": {},
   "source": [
    "We will see many other types of variables during the course. Some are just other types of data, for example we can define a **text** variable by using quotes ```' '``` around a given text:"
   ]
  },
  {
   "cell_type": "code",
   "execution_count": 11,
   "id": "0f036165-5fbf-420e-bbc3-7254f9206eba",
   "metadata": {},
   "outputs": [
    {
     "data": {
      "text/plain": [
       "'This is my text'"
      ]
     },
     "execution_count": 11,
     "metadata": {},
     "output_type": "execute_result"
    }
   ],
   "source": [
    "my_text = 'This is my text'\n",
    "my_text"
   ]
  },
  {
   "cell_type": "markdown",
   "id": "55f65a6f-bf8f-4ae4-a4af-095978a34440",
   "metadata": {},
   "source": [
    "Others can contain multiple elements like lists:"
   ]
  },
  {
   "cell_type": "code",
   "execution_count": 12,
   "id": "d822c69a-b2af-480d-a036-040657cca21b",
   "metadata": {},
   "outputs": [
    {
     "data": {
      "text/plain": [
       "[3, 8, 5, 9]"
      ]
     },
     "execution_count": 12,
     "metadata": {},
     "output_type": "execute_result"
    }
   ],
   "source": [
    "my_list = [3, 8, 5, 9]\n",
    "my_list"
   ]
  },
  {
   "cell_type": "markdown",
   "id": "fba2dafb-f50d-4e8c-9da0-88e6424a487d",
   "metadata": {},
   "source": [
    "but more on these data structures later..."
   ]
  },
  {
   "cell_type": "markdown",
   "id": "62c245e5-9cd3-4d66-8bcc-c5ed03253cf1",
   "metadata": {},
   "source": [
    "## Exercise\n",
    "\n",
    "Open a notebook and make sure you can run code, add cells, re-start the kernel, convert a cell to Markdown etc."
   ]
  },
  {
   "cell_type": "code",
   "execution_count": null,
   "id": "1ce8009c-fa28-4cf0-93b6-2dd875b06c90",
   "metadata": {},
   "outputs": [],
   "source": []
  }
 ],
 "metadata": {
  "kernelspec": {
   "display_name": "Python 3 (ipykernel)",
   "language": "python",
   "name": "python3"
  },
  "language_info": {
   "codemirror_mode": {
    "name": "ipython",
    "version": 3
   },
   "file_extension": ".py",
   "mimetype": "text/x-python",
   "name": "python",
   "nbconvert_exporter": "python",
   "pygments_lexer": "ipython3",
   "version": "3.9.10"
  }
 },
 "nbformat": 4,
 "nbformat_minor": 5
}
