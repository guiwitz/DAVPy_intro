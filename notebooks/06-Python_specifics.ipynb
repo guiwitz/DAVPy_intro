{
 "cells": [
  {
   "cell_type": "markdown",
   "id": "6d259f4b-1f89-4634-aea0-39aff6593111",
   "metadata": {},
   "source": [
    "# Python specificities\n",
    "\n",
    "In this chapter, we will cover a few aspects of Python used frequently and/or that are very useful to write succinct code."
   ]
  },
  {
   "cell_type": "markdown",
   "id": "6eacbda6-0672-4db3-97d1-3d04fb84f4a7",
   "metadata": {},
   "source": [
    "## None, is not\n",
    "\n",
    "In Python, we can write code that resembles very much regular language. For this we can use a series of key-words recognized by the language.\n",
    "\n",
    "For example, often we need to initialize a variable and assign it no specific value. Instead of using some type specific \"non-assigned\" value like ```0``` for a number or ```[]``` for a list, it's useful to use the general ```None``` value: "
   ]
  },
  {
   "cell_type": "code",
   "execution_count": 1,
   "id": "a8e94e87-2492-4b12-b305-4a2bb1f194e7",
   "metadata": {},
   "outputs": [],
   "source": [
    "a = None"
   ]
  },
  {
   "cell_type": "markdown",
   "id": "c3d59c00-7826-495d-8f72-65e5695e878a",
   "metadata": {},
   "source": [
    "Now if we want to check whether this variable has already been assigned some value we can use in addition the ```is``` and ```not``` words to ask:"
   ]
  },
  {
   "cell_type": "code",
   "execution_count": 4,
   "id": "b739da2e-55da-4807-8106-a69714469033",
   "metadata": {},
   "outputs": [
    {
     "data": {
      "text/plain": [
       "True"
      ]
     },
     "execution_count": 4,
     "metadata": {},
     "output_type": "execute_result"
    }
   ],
   "source": [
    "a is None"
   ]
  },
  {
   "cell_type": "code",
   "execution_count": 13,
   "id": "59116448-5758-4963-b1ad-55ad2cca7438",
   "metadata": {},
   "outputs": [
    {
     "data": {
      "text/plain": [
       "False"
      ]
     },
     "execution_count": 13,
     "metadata": {},
     "output_type": "execute_result"
    }
   ],
   "source": [
    "a is not None"
   ]
  },
  {
   "cell_type": "markdown",
   "id": "b6d1df84-30b5-4074-8e17-7e6830bb0004",
   "metadata": {},
   "source": [
    "or in an ```if``` statement:"
   ]
  },
  {
   "cell_type": "code",
   "execution_count": 6,
   "id": "bf88fbfa-dfc0-4700-b406-228b6235bab5",
   "metadata": {},
   "outputs": [
    {
     "name": "stdout",
     "output_type": "stream",
     "text": [
      "yes\n"
     ]
    }
   ],
   "source": [
    "if a is None:\n",
    "    print('yes')"
   ]
  },
  {
   "cell_type": "markdown",
   "id": "ed232dd3-9292-4ffa-af85-eedf0cdb533e",
   "metadata": {},
   "source": [
    "Generally, only ```None``` is ```None``` and hence ```0``` or ```[]``` are not considered as None:"
   ]
  },
  {
   "cell_type": "code",
   "execution_count": 11,
   "id": "b0f4895b-fe48-4f80-b2c0-d7142be013c4",
   "metadata": {},
   "outputs": [
    {
     "data": {
      "text/plain": [
       "False"
      ]
     },
     "execution_count": 11,
     "metadata": {},
     "output_type": "execute_result"
    }
   ],
   "source": [
    "[] is None"
   ]
  },
  {
   "cell_type": "code",
   "execution_count": 14,
   "id": "4c04163d-08a5-4363-a4ca-4d343869531a",
   "metadata": {},
   "outputs": [
    {
     "data": {
      "text/plain": [
       "False"
      ]
     },
     "execution_count": 14,
     "metadata": {},
     "output_type": "execute_result"
    }
   ],
   "source": [
    "a = 0\n",
    "a is None"
   ]
  },
  {
   "cell_type": "markdown",
   "id": "897d9521-1c55-4688-bc9d-c2f1c8d0a051",
   "metadata": {},
   "source": [
    "## (In-)equalities\n",
    "\n",
    "In code, we often compare variables and execute a part of the code only if some condition is met. The output of such inequalities are **boolean** variables that can take only ```True``` and ```False``` values. For example in the following:"
   ]
  },
  {
   "cell_type": "code",
   "execution_count": 15,
   "id": "2357a0c0-402c-44ca-8d02-28927a025232",
   "metadata": {},
   "outputs": [
    {
     "name": "stdout",
     "output_type": "stream",
     "text": [
      "large\n"
     ]
    }
   ],
   "source": [
    "a = 0\n",
    "if a < 0:\n",
    "    print('small')\n",
    "else:\n",
    "    print('large')"
   ]
  },
  {
   "cell_type": "markdown",
   "id": "53108a1d-c2f3-4649-afa5-8810c843c4d8",
   "metadata": {},
   "source": [
    "first the condition ```a < 0``` is computed and results in a boolean:"
   ]
  },
  {
   "cell_type": "code",
   "execution_count": 18,
   "id": "c4224a75-c86b-47ca-9706-bb1cdc4b2086",
   "metadata": {},
   "outputs": [
    {
     "data": {
      "text/plain": [
       "False"
      ]
     },
     "execution_count": 18,
     "metadata": {},
     "output_type": "execute_result"
    }
   ],
   "source": [
    "a < 0"
   ]
  },
  {
   "cell_type": "markdown",
   "id": "0ee4a514-34ff-450d-b4b8-acc62326cb65",
   "metadata": {},
   "source": [
    "Then the program checks if the boolean is true or not to decide what to execute next. In fact we can store this boolean in a new variable:"
   ]
  },
  {
   "cell_type": "code",
   "execution_count": 19,
   "id": "cf2c424f-5eaa-4bee-aa36-d44088937a4f",
   "metadata": {},
   "outputs": [],
   "source": [
    "mybool = a < 0"
   ]
  },
  {
   "cell_type": "code",
   "execution_count": 20,
   "id": "4ff64b0c-e7d0-4a74-a730-debfd9db1dd7",
   "metadata": {},
   "outputs": [
    {
     "data": {
      "text/plain": [
       "False"
      ]
     },
     "execution_count": 20,
     "metadata": {},
     "output_type": "execute_result"
    }
   ],
   "source": [
    "mybool"
   ]
  },
  {
   "cell_type": "markdown",
   "id": "b5907c59-30eb-46d7-8fa5-3e6cbe2d5a62",
   "metadata": {},
   "source": [
    "and then do similar operations to what we did with ```None```:"
   ]
  },
  {
   "cell_type": "code",
   "execution_count": 22,
   "id": "0b19ebdf-39e9-40da-8f42-7d90e2e876b2",
   "metadata": {},
   "outputs": [
    {
     "data": {
      "text/plain": [
       "False"
      ]
     },
     "execution_count": 22,
     "metadata": {},
     "output_type": "execute_result"
    }
   ],
   "source": [
    "mybool is True"
   ]
  },
  {
   "cell_type": "code",
   "execution_count": 23,
   "id": "3caf454c-26b3-4b52-b489-f1ecf09c4f78",
   "metadata": {},
   "outputs": [
    {
     "data": {
      "text/plain": [
       "True"
      ]
     },
     "execution_count": 23,
     "metadata": {},
     "output_type": "execute_result"
    }
   ],
   "source": [
    "mybool is False"
   ]
  },
  {
   "cell_type": "markdown",
   "id": "ed105b60-4658-41f5-98bd-5d958650f305",
   "metadata": {},
   "source": [
    "Note that to check for equality you need to use the double sign ```==``` as the ```=``` sign is already used to assign a value to a variable."
   ]
  },
  {
   "cell_type": "code",
   "execution_count": 24,
   "id": "5fdd8d63-a9c5-4ccf-863a-ecafa50163d6",
   "metadata": {},
   "outputs": [
    {
     "data": {
      "text/plain": [
       "False"
      ]
     },
     "execution_count": 24,
     "metadata": {},
     "output_type": "execute_result"
    }
   ],
   "source": [
    "b = 5\n",
    "\n",
    "a == b"
   ]
  },
  {
   "cell_type": "markdown",
   "id": "717482d5-057f-4217-9206-fbd1b0d75631",
   "metadata": {},
   "source": [
    "And inequality uses the ```!=``` sign:"
   ]
  },
  {
   "cell_type": "code",
   "execution_count": 27,
   "id": "dfe9a293-090b-4683-91eb-3b9478d7a9d9",
   "metadata": {},
   "outputs": [
    {
     "data": {
      "text/plain": [
       "True"
      ]
     },
     "execution_count": 27,
     "metadata": {},
     "output_type": "execute_result"
    }
   ],
   "source": [
    "a != b"
   ]
  },
  {
   "cell_type": "markdown",
   "id": "a0c39397-c511-4b54-958c-1162105f52a4",
   "metadata": {},
   "source": [
    "Note also that the ```===``` can also be used with other objects (but not all!). For example we can check that two strings are the same:"
   ]
  },
  {
   "cell_type": "code",
   "execution_count": 31,
   "id": "1ccbde78-da8b-49b8-8d62-c6099878d900",
   "metadata": {},
   "outputs": [
    {
     "data": {
      "text/plain": [
       "True"
      ]
     },
     "execution_count": 31,
     "metadata": {},
     "output_type": "execute_result"
    }
   ],
   "source": [
    "mystring1 = 'This is a test'\n",
    "mystring2 = 'This is a test'\n",
    "\n",
    "mystring1 == mystring2"
   ]
  },
  {
   "cell_type": "markdown",
   "id": "528ae91d-b2f0-497a-8ba0-bfddf0db8be3",
   "metadata": {},
   "source": [
    "And even with list, here even though we compare an integer ```7``` with a float ```7.0```."
   ]
  },
  {
   "cell_type": "code",
   "execution_count": 46,
   "id": "f454eabb-7cc7-468b-95b5-f28f902212a5",
   "metadata": {},
   "outputs": [
    {
     "data": {
      "text/plain": [
       "True"
      ]
     },
     "execution_count": 46,
     "metadata": {},
     "output_type": "execute_result"
    }
   ],
   "source": [
    "mylist1 = [6, 2, 7]\n",
    "mylist2 = [6, 2, 7.0]\n",
    "\n",
    "mylist1 == mylist2"
   ]
  },
  {
   "cell_type": "markdown",
   "id": "0fe00c2f-8b4c-4fd0-a3e3-ce4a1df34648",
   "metadata": {},
   "source": [
    "## enumerate and zip\n",
    "\n",
    "Python has some specific functions that can greatly simplify code in particular in for loops. Let's imagine we have a ```for``` loop and need to use elements of **two list of the same length** inside that loop. We could of course use an iterator to go through elements:"
   ]
  },
  {
   "cell_type": "code",
   "execution_count": 47,
   "id": "900e47be-2050-4d1c-889a-9b1150a2230d",
   "metadata": {},
   "outputs": [
    {
     "name": "stdout",
     "output_type": "stream",
     "text": [
      "36\n",
      "4\n",
      "49.0\n"
     ]
    }
   ],
   "source": [
    "for i in range(3):\n",
    "    new_val = mylist1[i] * mylist2[i]\n",
    "    print(new_val)"
   ]
  },
  {
   "cell_type": "markdown",
   "id": "841ebfa0-3146-4501-af42-00476a482484",
   "metadata": {},
   "source": [
    "Instead we can use here the ```zip``` function which allows us to use the same sort of syntax we have seen for single elements like:"
   ]
  },
  {
   "cell_type": "code",
   "execution_count": 48,
   "id": "65d76226-fdd7-4054-994b-57acc6f46b34",
   "metadata": {},
   "outputs": [
    {
     "name": "stdout",
     "output_type": "stream",
     "text": [
      "6\n",
      "2\n",
      "7\n"
     ]
    }
   ],
   "source": [
    "for m in mylist1:\n",
    "    print(m)"
   ]
  },
  {
   "cell_type": "markdown",
   "id": "899b1a64-e265-41a4-93ae-20be17ab459f",
   "metadata": {},
   "source": [
    "For this we group the two lists in the ```zip``` function which allows us then to traverse **both lists at the same time**:"
   ]
  },
  {
   "cell_type": "code",
   "execution_count": 49,
   "id": "be9621d0-019a-4ba8-a6f2-8e067fc07cde",
   "metadata": {},
   "outputs": [
    {
     "name": "stdout",
     "output_type": "stream",
     "text": [
      "36\n",
      "4\n",
      "49.0\n"
     ]
    }
   ],
   "source": [
    "for m1, m2 in zip(mylist1, mylist2):\n",
    "    new_val = m1 * m2\n",
    "    print(new_val)"
   ]
  },
  {
   "cell_type": "markdown",
   "id": "b5c9d3a6-9a20-487d-9e52-6c10f19730eb",
   "metadata": {},
   "source": [
    "Sometimes we also want to use the ```for m in mylist1:``` synthax to traverse the list but in the code still need to access the index of the element currently used. We can recover that index using the ```enumerate``` function which returns both the element and its index:"
   ]
  },
  {
   "cell_type": "code",
   "execution_count": 50,
   "id": "56256589-e775-47c7-92a1-4df4d2ea21e7",
   "metadata": {},
   "outputs": [
    {
     "name": "stdout",
     "output_type": "stream",
     "text": [
      "0\n",
      "6\n",
      "1\n",
      "2\n",
      "2\n",
      "7\n"
     ]
    }
   ],
   "source": [
    "for ind, m in enumerate(mylist1):\n",
    "    print(ind)\n",
    "    print(m)"
   ]
  },
  {
   "cell_type": "markdown",
   "id": "f23d6e06-aece-4ed6-88a5-83af461d0616",
   "metadata": {},
   "source": [
    "## f strings\n",
    "\n",
    "In the last loop shown above we printed the index ```ind``` and the actual value ```m```. However the output is not very clear. We would like instead to have an indication of what these output values actually are. In python we can easily concatenate text and numbers. Classically, we convert the number into a string and just use the ```+``` sign:"
   ]
  },
  {
   "cell_type": "code",
   "execution_count": 53,
   "id": "bbcc8957-081b-486f-b982-cbc5481cffb0",
   "metadata": {},
   "outputs": [
    {
     "data": {
      "text/plain": [
       "'index 3'"
      ]
     },
     "execution_count": 53,
     "metadata": {},
     "output_type": "execute_result"
    }
   ],
   "source": [
    "value = 3\n",
    "'index ' + str(value)"
   ]
  },
  {
   "cell_type": "markdown",
   "id": "fdf19db7-d78e-4ea7-beb6-b7d702f94f57",
   "metadata": {},
   "source": [
    "A more convenient method, especially when assembling more than two text parts is to resort to f-strings. Here we can directly use the **variable name** inside a string by using curly brackets and prefacing the string with an ```f```:"
   ]
  },
  {
   "cell_type": "code",
   "execution_count": 54,
   "id": "5255c8e6-3ba4-4baa-8b36-abaa2a130b6b",
   "metadata": {},
   "outputs": [
    {
     "data": {
      "text/plain": [
       "'index 3'"
      ]
     },
     "execution_count": 54,
     "metadata": {},
     "output_type": "execute_result"
    }
   ],
   "source": [
    "f'index {value}'"
   ]
  },
  {
   "cell_type": "markdown",
   "id": "83959bb2-4873-45f4-bb5f-feeb912b1ce6",
   "metadata": {},
   "source": [
    "Now we can correct our loop above:"
   ]
  },
  {
   "cell_type": "code",
   "execution_count": 57,
   "id": "e90986ba-ee56-4d88-a3cc-60b8517225cf",
   "metadata": {},
   "outputs": [
    {
     "name": "stdout",
     "output_type": "stream",
     "text": [
      "index is: 0 and value is 6\n",
      "index is: 1 and value is 2\n",
      "index is: 2 and value is 7\n"
     ]
    }
   ],
   "source": [
    "for ind, m in enumerate(mylist1):\n",
    "    print(f'index is: {ind} and value is {m}')"
   ]
  },
  {
   "cell_type": "code",
   "execution_count": null,
   "id": "c1e2407e-4b05-401d-a77c-eaf269005e88",
   "metadata": {},
   "outputs": [],
   "source": []
  }
 ],
 "metadata": {
  "kernelspec": {
   "display_name": "Python 3 (ipykernel)",
   "language": "python",
   "name": "python3"
  },
  "language_info": {
   "codemirror_mode": {
    "name": "ipython",
    "version": 3
   },
   "file_extension": ".py",
   "mimetype": "text/x-python",
   "name": "python",
   "nbconvert_exporter": "python",
   "pygments_lexer": "ipython3",
   "version": "3.9.10"
  }
 },
 "nbformat": 4,
 "nbformat_minor": 5
}
