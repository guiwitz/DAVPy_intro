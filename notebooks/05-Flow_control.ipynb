{
 "cells": [
  {
   "cell_type": "markdown",
   "id": "f7288c46-6ddd-4b89-9eef-9e3fc8130c9a",
   "metadata": {},
   "source": [
    "# Repeating and controlling\n",
    "\n",
    "Very often, when we develop a data analysis routine, as we will do later, we will hit three problems: 1) dealing with folders full of data files, 2) repeating an operation for example over multiple files, and 3) executing an analysis only in certain cases for example only if the file format is appropriate. In this chapter we will deal with these three problems: handling file paths, for loops and conditional statements.\n",
    "\n",
    "In this example, we use the data in ```bacteria_growth``` folder containing information about bacterial growth such as length of bacteria at birth and division time, growth rate etc. We will use a dummy workflow function that just computes the average of the birth length ```Lb``` (more on computations with DataFrames later):"
   ]
  },
  {
   "cell_type": "code",
   "execution_count": 5,
   "id": "efd88915-0da0-42de-92e9-9e7309c9e852",
   "metadata": {},
   "outputs": [],
   "source": [
    "import numpy as np\n",
    "\n",
    "def workflow_fun(bact):\n",
    "    \n",
    "    mean_val = bact['Lb'].mean()\n",
    "    \n",
    "    return mean_val"
   ]
  },
  {
   "cell_type": "markdown",
   "id": "76ae6935-6462-4b0f-926d-ed5e70908a82",
   "metadata": {},
   "source": [
    "Let's test our workflow on one dataset:"
   ]
  },
  {
   "cell_type": "code",
   "execution_count": 6,
   "id": "948adf92-b495-4faa-82f9-799d6a9294d4",
   "metadata": {},
   "outputs": [
    {
     "data": {
      "text/plain": [
       "27.94854330019155"
      ]
     },
     "execution_count": 6,
     "metadata": {},
     "output_type": "execute_result"
    }
   ],
   "source": [
    "import pandas as pd\n",
    "\n",
    "bacteria = pd.read_csv('data/bacteria_growth/bact_glucose.csv')\n",
    "\n",
    "workflow_fun(bact=bacteria)"
   ]
  },
  {
   "cell_type": "markdown",
   "id": "97707595-b75f-4143-98c7-b77584204979",
   "metadata": {},
   "source": [
    "As you can see our function expects a specific output, in this case an image with three channels where we want to analyze the last channel."
   ]
  },
  {
   "cell_type": "markdown",
   "id": "cbe59a7c-dd47-4622-b218-477262e951ff",
   "metadata": {},
   "source": [
    "## Files and paths\n",
    "\n",
    "The goal now is to execute the same routine on a series of files. We would for example indicate a folder, get a list of the contents and run the workflow on all contents. There are multiple ways to deal with paths in Python, but we highly recommend to use the ```pathlib``` module which provides a lot of very useful tools to handle path names, extensions etc.\n",
    "\n",
    "First we use the ```Path``` object to define the path of the folder containing data:"
   ]
  },
  {
   "cell_type": "code",
   "execution_count": 7,
   "id": "b812aece-19ae-4815-80b8-cab77a295d36",
   "metadata": {},
   "outputs": [],
   "source": [
    "from pathlib import Path"
   ]
  },
  {
   "cell_type": "code",
   "execution_count": 8,
   "id": "b5dc31db-63b6-4063-a8e7-042b8f7c1a18",
   "metadata": {},
   "outputs": [],
   "source": [
    "folder = Path('data/bacteria_growth/')"
   ]
  },
  {
   "cell_type": "markdown",
   "id": "79d69582-6ae6-4c84-918b-6e49a9f075ae",
   "metadata": {},
   "source": [
    "```folder``` is not just a string but an actual object that is much more useful. For example we can ask for the absolute path:"
   ]
  },
  {
   "cell_type": "code",
   "execution_count": 9,
   "id": "902a4a18-14cb-4048-8493-9d7d08831597",
   "metadata": {},
   "outputs": [
    {
     "data": {
      "text/plain": [
       "PosixPath('/Users/gw18g940/GoogleDrive/BernMIC/Trainings/DAVPy_intro/notebooks/data/bacteria_growth')"
      ]
     },
     "execution_count": 9,
     "metadata": {},
     "output_type": "execute_result"
    }
   ],
   "source": [
    "folder.absolute()"
   ]
  },
  {
   "cell_type": "markdown",
   "id": "03ce67de-9625-4f05-951d-ed3622f2cced",
   "metadata": {},
   "source": [
    "or we can ask if the defined path is a folder:"
   ]
  },
  {
   "cell_type": "code",
   "execution_count": 10,
   "id": "6c6ee5bb-e2be-449f-9d88-eb15671dae04",
   "metadata": {},
   "outputs": [
    {
     "data": {
      "text/plain": [
       "True"
      ]
     },
     "execution_count": 10,
     "metadata": {},
     "output_type": "execute_result"
    }
   ],
   "source": [
    "folder.is_dir()"
   ]
  },
  {
   "cell_type": "code",
   "execution_count": 11,
   "id": "e0c76c57-6e73-4276-a480-fd8be902b906",
   "metadata": {},
   "outputs": [
    {
     "data": {
      "text/plain": [
       "False"
      ]
     },
     "execution_count": 11,
     "metadata": {},
     "output_type": "execute_result"
    }
   ],
   "source": [
    "folder.is_file()"
   ]
  },
  {
   "cell_type": "markdown",
   "id": "fc7d5e3c-d019-4acf-82b5-efde836261e7",
   "metadata": {},
   "source": [
    "There are also many usueful functions to handle the path itself. For example if you have a folder and a file name, you can simply join them with:"
   ]
  },
  {
   "cell_type": "code",
   "execution_count": 12,
   "id": "985d05d3-c40e-41f6-8d4d-37de952081df",
   "metadata": {},
   "outputs": [
    {
     "data": {
      "text/plain": [
       "PosixPath('data/bacteria_growth/myfile.txt')"
      ]
     },
     "execution_count": 12,
     "metadata": {},
     "output_type": "execute_result"
    }
   ],
   "source": [
    "folder.joinpath('myfile.txt')"
   ]
  },
  {
   "cell_type": "markdown",
   "id": "00f87404-355a-4980-9988-9080acc5e613",
   "metadata": {},
   "source": [
    "This spares you the hassle of adding slashes, making sure your code will work on an other OS etc."
   ]
  },
  {
   "cell_type": "markdown",
   "id": "b353c863-a362-4f4e-ab7d-2939abbda369",
   "metadata": {},
   "source": [
    "### Listing files\n",
    "\n",
    "Now we can use methods attached to this path object to explore its contents. For example we can check the folder contents with ```iterdir```"
   ]
  },
  {
   "cell_type": "code",
   "execution_count": 13,
   "id": "8d66d332-f4cc-46fd-9a3f-7749b08e22c0",
   "metadata": {},
   "outputs": [],
   "source": [
    "files_in_folder = folder.iterdir()"
   ]
  },
  {
   "cell_type": "markdown",
   "id": "b5294b99-6194-4a2c-b01a-423b42992e4e",
   "metadata": {},
   "source": [
    "As you can see, the returned object is a *generator*. We haven't seen yet this object which is very specific to Python. It is a sort of a list whose contents can be queried one after the other, for example using the ```next``` statement:"
   ]
  },
  {
   "cell_type": "code",
   "execution_count": 14,
   "id": "3cab5f9a-1a7b-4d47-bfbd-e1568e54b55d",
   "metadata": {},
   "outputs": [
    {
     "data": {
      "text/plain": [
       "PosixPath('data/bacteria_growth/bact_glucoseaa.csv')"
      ]
     },
     "execution_count": 14,
     "metadata": {},
     "output_type": "execute_result"
    }
   ],
   "source": [
    "next(files_in_folder)"
   ]
  },
  {
   "cell_type": "markdown",
   "id": "61eba9a9-3db2-48e4-946b-80211315361c",
   "metadata": {},
   "source": [
    "For the moment we just transform this generator into a regular list:"
   ]
  },
  {
   "cell_type": "code",
   "execution_count": 15,
   "id": "6568a98f-8cd4-42ea-869e-dcc2e3a278c8",
   "metadata": {},
   "outputs": [
    {
     "data": {
      "text/plain": [
       "[PosixPath('data/bacteria_growth/bact_glucoseaa.csv'),\n",
       " PosixPath('data/bacteria_growth/readme.md'),\n",
       " PosixPath('data/bacteria_growth/bact_glycerol.csv'),\n",
       " PosixPath('data/bacteria_growth/bact_glucose.csv'),\n",
       " PosixPath('data/bacteria_growth/.ipynb_checkpoints')]"
      ]
     },
     "execution_count": 15,
     "metadata": {},
     "output_type": "execute_result"
    }
   ],
   "source": [
    "files_in_folder = folder.iterdir()\n",
    "\n",
    "files_in_folder = list(files_in_folder)\n",
    "\n",
    "files_in_folder"
   ]
  },
  {
   "cell_type": "markdown",
   "id": "3b92246e-8b8f-4087-a85b-4a80e24d580c",
   "metadata": {},
   "source": [
    "### Investigating files\n",
    "\n",
    "Our goal will be to analyze all the csv files in that folder. However we will need to do some clean-up first as some of the files should be discarded.\n",
    "\n",
    "Again, each of the elements of ```files_in_folder``` is a ```Path``` object and we can get multiple features such as: \n",
    "- the folder the file belongs to:"
   ]
  },
  {
   "cell_type": "code",
   "execution_count": 16,
   "id": "1f71d7c9-6a5f-4c26-8cda-a523ad6cba78",
   "metadata": {},
   "outputs": [
    {
     "data": {
      "text/plain": [
       "PosixPath('data/bacteria_growth')"
      ]
     },
     "execution_count": 16,
     "metadata": {},
     "output_type": "execute_result"
    }
   ],
   "source": [
    "files_in_folder[0].parent"
   ]
  },
  {
   "cell_type": "markdown",
   "id": "f62f7566-c986-42e0-a024-47df6398051e",
   "metadata": {},
   "source": [
    "- the name of the file:"
   ]
  },
  {
   "cell_type": "code",
   "execution_count": 17,
   "id": "7819cb2d-63b1-4674-a821-f5b26aca81af",
   "metadata": {},
   "outputs": [
    {
     "data": {
      "text/plain": [
       "'bact_glucoseaa.csv'"
      ]
     },
     "execution_count": 17,
     "metadata": {},
     "output_type": "execute_result"
    }
   ],
   "source": [
    "files_in_folder[0].name"
   ]
  },
  {
   "cell_type": "markdown",
   "id": "0d3a2ec7-d92f-480d-a98b-04d3dfe6da57",
   "metadata": {},
   "source": [
    "- the two parts of the file: name and extension:"
   ]
  },
  {
   "cell_type": "code",
   "execution_count": 18,
   "id": "96fd65f5-8e22-483f-80a5-d6bc98476b60",
   "metadata": {},
   "outputs": [
    {
     "data": {
      "text/plain": [
       "'bact_glucoseaa'"
      ]
     },
     "execution_count": 18,
     "metadata": {},
     "output_type": "execute_result"
    }
   ],
   "source": [
    "files_in_folder[0].stem"
   ]
  },
  {
   "cell_type": "code",
   "execution_count": 19,
   "id": "aada4772-1805-4a37-93d4-426f8fe13942",
   "metadata": {},
   "outputs": [
    {
     "data": {
      "text/plain": [
       "'.csv'"
      ]
     },
     "execution_count": 19,
     "metadata": {},
     "output_type": "execute_result"
    }
   ],
   "source": [
    "files_in_folder[0].suffix"
   ]
  },
  {
   "cell_type": "markdown",
   "id": "601ca230-757d-40c2-b3d3-d69853f97759",
   "metadata": {},
   "source": [
    "While all these elements could be recovered from a path represented as a simple string, the ```Path``` object just makes this massively easier, so we definitely recommend to use it!"
   ]
  },
  {
   "cell_type": "markdown",
   "id": "73564e95-9d9f-400f-9cb6-065e782e784d",
   "metadata": {},
   "source": [
    "## Iterating through files\n",
    "\n",
    "### for loops\n",
    "\n",
    "As in almost all programming languages, iteration is achieved by using a ```for``` loop which allows us to repeatedly execute a block of code. In many languages, one just tells the for loop how many times it should run through the code block. In Python, instead of this we *traverse a list* and for each element of the list, execute the code block. Let's consider a simple example for the moment. We have a list of numbers:"
   ]
  },
  {
   "cell_type": "code",
   "execution_count": 20,
   "id": "e84256e1-680a-4cef-9e2a-d71b26089079",
   "metadata": {},
   "outputs": [],
   "source": [
    "mylist = [8,3,9,20,27]"
   ]
  },
  {
   "cell_type": "markdown",
   "id": "699f8ae9-c6c6-4318-9c79-33c2e7048929",
   "metadata": {},
   "source": [
    "and now we want compute the square of each element in the list. So we write:"
   ]
  },
  {
   "cell_type": "code",
   "execution_count": 21,
   "id": "708e9ada-afcc-4035-953a-9cb4e857a7fe",
   "metadata": {},
   "outputs": [],
   "source": [
    "for e in mylist:\n",
    "    result = e ** 2"
   ]
  },
  {
   "cell_type": "markdown",
   "id": "6f239667-b845-4fb4-a97e-c384305c42f7",
   "metadata": {},
   "source": [
    "As you can see, ```for``` loops are written in a relatively \"natural\" way in Python, stating that \"for each element e in mylist execute the following lines\". Note that:\n",
    "1. ```e``` just stands for the currently selected element from mylist.\n",
    "2. The for loop starts with the ```for``` statement\n",
    "3. The list used for iteration is specified, here ```mylist```\n",
    "4. Like function definition, the for loop definition ends with ```:```\n",
    "5. The content of the loop is **indented**\n",
    "\n",
    "You can also note that when we execute the cell nothing happens. This is because no graphical output is generated fro for loops. If we want to see the actual value we have to use the ```print()``` function:"
   ]
  },
  {
   "cell_type": "code",
   "execution_count": 22,
   "id": "26da6647-eb9c-45df-8b55-d5c1e89baa19",
   "metadata": {},
   "outputs": [
    {
     "name": "stdout",
     "output_type": "stream",
     "text": [
      "729\n"
     ]
    }
   ],
   "source": [
    "for e in mylist:\n",
    "    result = e ** 2\n",
    "print(result)"
   ]
  },
  {
   "cell_type": "markdown",
   "id": "3daaacb3-9cb5-4429-bb62-272aecd50115",
   "metadata": {},
   "source": [
    "Only the last value is printed because we put the ```print()``` function outside the loop. If we want to see each value we have to **indent** the ```print()``` call so that it is included in the loop:"
   ]
  },
  {
   "cell_type": "code",
   "execution_count": 23,
   "id": "9cbf3a6e-fa16-4933-bf5c-0ee4dbe5a6a3",
   "metadata": {},
   "outputs": [
    {
     "name": "stdout",
     "output_type": "stream",
     "text": [
      "64\n",
      "9\n",
      "81\n",
      "400\n",
      "729\n"
     ]
    }
   ],
   "source": [
    "for e in mylist:\n",
    "    result = e ** 2\n",
    "    print(result)"
   ]
  },
  {
   "cell_type": "markdown",
   "id": "89eb9d8b-4965-4323-aeb8-b449af0e54d0",
   "metadata": {},
   "source": [
    "### Looping using a range\n",
    "\n",
    "Often we don't want to loop over the content of a list but just want to do some operation N times or for indexes from 0 to N. To do that, we can use the built-in ```range()``` function that just does this: it provides numbers within a certainrange. The function doesn't really produce a list per se but can be used as if it were one. For example:"
   ]
  },
  {
   "cell_type": "code",
   "execution_count": 24,
   "id": "e9ae12a9-5ea1-4ddb-85b2-8e2231512811",
   "metadata": {},
   "outputs": [
    {
     "name": "stdout",
     "output_type": "stream",
     "text": [
      "0\n",
      "1\n",
      "2\n",
      "3\n",
      "4\n",
      "5\n",
      "6\n",
      "7\n"
     ]
    }
   ],
   "source": [
    "for x in range(8):\n",
    "    print(x)"
   ]
  },
  {
   "cell_type": "markdown",
   "id": "02f7e8e7-7f0c-4b32-882b-65ab519601b0",
   "metadata": {},
   "source": [
    "Note that as always the first index is not 0 but 8. Of course we could use these indexes to access specific parts of a list. Coming back to the previous example, we might want to calculate the square only of the three first numbers:"
   ]
  },
  {
   "cell_type": "code",
   "execution_count": 25,
   "id": "cbe31ad4-10ac-4d9a-a120-1a1bbef0a11f",
   "metadata": {},
   "outputs": [
    {
     "name": "stdout",
     "output_type": "stream",
     "text": [
      "64\n",
      "9\n",
      "81\n"
     ]
    }
   ],
   "source": [
    "for i in range(3):\n",
    "    result = mylist[i] ** 2\n",
    "    print(result)"
   ]
  },
  {
   "cell_type": "markdown",
   "id": "5046fae5-ce3b-47a6-985b-88d3eb19e80e",
   "metadata": {},
   "source": [
    "With ```mylist[x]``` we simply use the numbers generated by ```range()``` as indexes of our list."
   ]
  },
  {
   "cell_type": "markdown",
   "id": "9755031e-8fff-474b-8272-e20120e90542",
   "metadata": {},
   "source": [
    "### Back to files\n",
    "\n",
    "Now that we know how to iterate through a list, instead of going through a list of numbers we can just go through a list of files. Remember that our files are:"
   ]
  },
  {
   "cell_type": "code",
   "execution_count": 26,
   "id": "b8ff084c-e7d8-4c6c-abcb-d0118f0eada0",
   "metadata": {},
   "outputs": [
    {
     "data": {
      "text/plain": [
       "[PosixPath('data/bacteria_growth/bact_glucoseaa.csv'),\n",
       " PosixPath('data/bacteria_growth/readme.md'),\n",
       " PosixPath('data/bacteria_growth/bact_glycerol.csv'),\n",
       " PosixPath('data/bacteria_growth/bact_glucose.csv'),\n",
       " PosixPath('data/bacteria_growth/.ipynb_checkpoints')]"
      ]
     },
     "execution_count": 26,
     "metadata": {},
     "output_type": "execute_result"
    }
   ],
   "source": [
    "files_in_folder"
   ]
  },
  {
   "cell_type": "markdown",
   "id": "df036f29-7c27-4d84-a89e-1e824df818ce",
   "metadata": {},
   "source": [
    "So we can just write:"
   ]
  },
  {
   "cell_type": "code",
   "execution_count": 27,
   "id": "efe7e4c8-1913-4330-92e9-f61c6ba6db24",
   "metadata": {},
   "outputs": [
    {
     "name": "stdout",
     "output_type": "stream",
     "text": [
      "data/bacteria_growth/bact_glucoseaa.csv\n",
      "data/bacteria_growth/readme.md\n",
      "data/bacteria_growth/bact_glycerol.csv\n",
      "data/bacteria_growth/bact_glucose.csv\n",
      "data/bacteria_growth/.ipynb_checkpoints\n"
     ]
    }
   ],
   "source": [
    "for f in files_in_folder:\n",
    "    print(f)"
   ]
  },
  {
   "cell_type": "markdown",
   "id": "e4d059bb-4fd9-4b41-b994-403246eda051",
   "metadata": {},
   "source": [
    "And within the for loop, we can add any piece of code that we want. For example we can checke the file extension. As you can see, one of the files in the folder is not a tiff file and we would like to exclude it from analysis. A first step is hence to actually recover the extension with the ```suffix``` method:"
   ]
  },
  {
   "cell_type": "code",
   "execution_count": 28,
   "id": "14d04ddc-43eb-4319-8535-86a513ad4b9f",
   "metadata": {},
   "outputs": [
    {
     "name": "stdout",
     "output_type": "stream",
     "text": [
      "data/bacteria_growth/bact_glucoseaa.csv\n",
      ".csv\n",
      "data/bacteria_growth/readme.md\n",
      ".md\n",
      "data/bacteria_growth/bact_glycerol.csv\n",
      ".csv\n",
      "data/bacteria_growth/bact_glucose.csv\n",
      ".csv\n",
      "data/bacteria_growth/.ipynb_checkpoints\n",
      "\n"
     ]
    }
   ],
   "source": [
    "for f in files_in_folder:\n",
    "    suffix = f.suffix\n",
    "    print(f)\n",
    "    print(suffix)"
   ]
  },
  {
   "cell_type": "markdown",
   "id": "971fca25-c1db-4bc0-a7c7-c192aa011c98",
   "metadata": {},
   "source": [
    "## Using conditions\n",
    "\n",
    "\n",
    "### ```if``` statement\n",
    "\n",
    "Now that we catch the extension of each file, we can run our workflow *only if the extension is really csv*! For this we need another very common statement in programming languages, which is the ```if``` statement. Let's do a simple example first:"
   ]
  },
  {
   "cell_type": "code",
   "execution_count": 30,
   "id": "bfb28c8c-425f-4007-b2da-5d03bfee5dc4",
   "metadata": {},
   "outputs": [],
   "source": [
    "a = 3"
   ]
  },
  {
   "cell_type": "code",
   "execution_count": 31,
   "id": "543cd38d-efc6-4f48-b157-b844dea158e1",
   "metadata": {},
   "outputs": [],
   "source": [
    "if a > 4:\n",
    "    print('Large')"
   ]
  },
  {
   "cell_type": "code",
   "execution_count": 32,
   "id": "812d8a76-50ef-47ed-8fec-cf09ead0d09e",
   "metadata": {},
   "outputs": [
    {
     "name": "stdout",
     "output_type": "stream",
     "text": [
      "Small\n"
     ]
    }
   ],
   "source": [
    "if a < 4:\n",
    "    print('Small')"
   ]
  },
  {
   "cell_type": "markdown",
   "id": "f71de884-beb7-4d07-9cd0-ec08abc7ae31",
   "metadata": {},
   "source": [
    "We see that the structure of the ```if``` statement is very similar to that of functions and ```for``` loops:\n",
    "- a condition is stated and ends with ```:```\n",
    "- the block executed only if the statement is *True* is *indented*\n",
    "\n",
    "In some cases, we want to execute a different block code when the ```if``` statement is *False*. For that we need to use the ```else``` statement which has the same structure:"
   ]
  },
  {
   "cell_type": "code",
   "execution_count": 33,
   "id": "6a5cc9a1-c0a2-4857-abf6-0ea6d10e549a",
   "metadata": {},
   "outputs": [
    {
     "name": "stdout",
     "output_type": "stream",
     "text": [
      "Large\n"
     ]
    }
   ],
   "source": [
    "a = 10\n",
    "\n",
    "if a < 4:\n",
    "    print('Small')\n",
    "else:\n",
    "    print('Large')"
   ]
  },
  {
   "cell_type": "markdown",
   "id": "c8d3bfde-c870-49f9-a78d-8f678220e658",
   "metadata": {},
   "source": [
    "You can even add multiple sub-cases with ```elif```:"
   ]
  },
  {
   "cell_type": "code",
   "execution_count": 34,
   "id": "b43c37ee-b1bc-42c8-93b1-f7dad1de0c2c",
   "metadata": {},
   "outputs": [
    {
     "name": "stdout",
     "output_type": "stream",
     "text": [
      "Intermediate\n"
     ]
    }
   ],
   "source": [
    "a = 10\n",
    "\n",
    "if a < 4:\n",
    "    print('Small')\n",
    "elif a < 20:\n",
    "    print('Intermediate')\n",
    "else:\n",
    "    print('Large')"
   ]
  },
  {
   "cell_type": "markdown",
   "id": "76e84c99-ff91-4b3a-bbff-af1b2e58ae48",
   "metadata": {},
   "source": [
    "## Back to files\n",
    "\n",
    "So now we want to add an ```if``` statement in our routine, that will check the file format. Let's see if we can come up with a check e.g.:"
   ]
  },
  {
   "cell_type": "code",
   "execution_count": 35,
   "id": "0e02b74d-17c3-48ab-b72f-af33bbd7a9a7",
   "metadata": {},
   "outputs": [
    {
     "data": {
      "text/plain": [
       "PosixPath('data/bacteria_growth/bact_glycerol.csv')"
      ]
     },
     "execution_count": 35,
     "metadata": {},
     "output_type": "execute_result"
    }
   ],
   "source": [
    "files_in_folder[2]"
   ]
  },
  {
   "cell_type": "code",
   "execution_count": 36,
   "id": "f4e7004c-0238-4eb6-8bcc-ef7ee8cedca3",
   "metadata": {},
   "outputs": [
    {
     "data": {
      "text/plain": [
       "True"
      ]
     },
     "execution_count": 36,
     "metadata": {},
     "output_type": "execute_result"
    }
   ],
   "source": [
    "files_in_folder[2].suffix == '.csv'"
   ]
  },
  {
   "cell_type": "code",
   "execution_count": 37,
   "id": "5080df5f-4b59-45bb-a918-3630ffe8f88d",
   "metadata": {},
   "outputs": [
    {
     "data": {
      "text/plain": [
       "PosixPath('data/bacteria_growth/readme.md')"
      ]
     },
     "execution_count": 37,
     "metadata": {},
     "output_type": "execute_result"
    }
   ],
   "source": [
    "files_in_folder[1]"
   ]
  },
  {
   "cell_type": "code",
   "execution_count": 38,
   "id": "7a555d0e-3569-4bfd-b029-3861a3a3f615",
   "metadata": {},
   "outputs": [
    {
     "data": {
      "text/plain": [
       "False"
      ]
     },
     "execution_count": 38,
     "metadata": {},
     "output_type": "execute_result"
    }
   ],
   "source": [
    "files_in_folder[1].suffix == '.csv'"
   ]
  },
  {
   "cell_type": "markdown",
   "id": "5afee610-4b88-4501-a1b8-cfd00a9049ff",
   "metadata": {},
   "source": [
    "So we can compare our suffix to the string ```.csv``` and that should work:"
   ]
  },
  {
   "cell_type": "code",
   "execution_count": 39,
   "id": "62a32dae-320a-4583-8c82-0c1b67750fea",
   "metadata": {},
   "outputs": [
    {
     "name": "stdout",
     "output_type": "stream",
     "text": [
      "data/bacteria_growth/bact_glucoseaa.csv\n",
      "Is csv file\n",
      "data/bacteria_growth/readme.md\n",
      "Is NOT csv file\n",
      "data/bacteria_growth/bact_glycerol.csv\n",
      "Is csv file\n",
      "data/bacteria_growth/bact_glucose.csv\n",
      "Is csv file\n",
      "data/bacteria_growth/.ipynb_checkpoints\n",
      "Is NOT csv file\n"
     ]
    }
   ],
   "source": [
    "for f in files_in_folder:\n",
    "    \n",
    "    print(f)\n",
    "    if f.suffix == '.csv':\n",
    "        print('Is csv file')\n",
    "    else:\n",
    "        print('Is NOT csv file')"
   ]
  },
  {
   "cell_type": "markdown",
   "id": "6760548d-9dbc-4bd3-8869-8ee5aa176e47",
   "metadata": {},
   "source": [
    "## Complete routine\n",
    "\n",
    "So now we can finally go through all files, check the extension and execute the workflow only if the file is csv file: "
   ]
  },
  {
   "cell_type": "code",
   "execution_count": 43,
   "id": "91af7bad-bab0-4ae7-ad47-d101f09ff029",
   "metadata": {},
   "outputs": [],
   "source": [
    "keep_value = []\n",
    "\n",
    "for f in files_in_folder:\n",
    "    \n",
    "    if f.suffix == '.csv':\n",
    "        \n",
    "        bacteria = pd.read_csv(f)\n",
    "\n",
    "        out = workflow_fun(bacteria)\n",
    "        \n",
    "        keep_value.append(out)"
   ]
  },
  {
   "cell_type": "code",
   "execution_count": 44,
   "id": "1b275ec3-1bc6-4ba9-9835-6f1be5afdf90",
   "metadata": {},
   "outputs": [
    {
     "data": {
      "text/plain": [
       "[34.79750161626745, 26.606417765323293, 27.94854330019155]"
      ]
     },
     "execution_count": 44,
     "metadata": {},
     "output_type": "execute_result"
    }
   ],
   "source": [
    "keep_value"
   ]
  },
  {
   "cell_type": "markdown",
   "id": "f7b86016-7732-424f-a488-8d032dc4cda1",
   "metadata": {},
   "source": [
    "## Exercise\n",
    "\n",
    "Modify the loop above so that it prints out the extension of the files that is not a csv file. Try also to come up with a solution to know at which index in the file list this file is located."
   ]
  },
  {
   "cell_type": "code",
   "execution_count": null,
   "id": "ea8fe241-23f2-4491-85b5-4627451b3010",
   "metadata": {},
   "outputs": [],
   "source": []
  }
 ],
 "metadata": {
  "kernelspec": {
   "display_name": "Python 3 (ipykernel)",
   "language": "python",
   "name": "python3"
  },
  "language_info": {
   "codemirror_mode": {
    "name": "ipython",
    "version": 3
   },
   "file_extension": ".py",
   "mimetype": "text/x-python",
   "name": "python",
   "nbconvert_exporter": "python",
   "pygments_lexer": "ipython3",
   "version": "3.9.10"
  }
 },
 "nbformat": 4,
 "nbformat_minor": 5
}
