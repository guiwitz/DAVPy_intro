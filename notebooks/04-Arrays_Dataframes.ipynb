{
 "cells": [
  {
   "cell_type": "markdown",
   "metadata": {
    "id": "58HlKuYlwfeY"
   },
   "source": [
    "# Arrays and DataFrames\n",
    "\n",
    "Python has several built-in types of data structures such as lists and dictionaries, but none of them allows you to efficiently do computations on large lists or tables of data. The Numpy and Pandas libraries fill this gap by providing 1) specific data structures on which one can efficiently compute and 2) functions to perform the computations on these structures.\n",
    "\n",
    "Numpy is the core scientific computing library on which virtually all other scientific Python packages are building (except for deep learning libraries). This includes notably Scipy, a package offering numerical routines for optimization, regression etc. that will be used in the last series of lectures.\n",
    "\n",
    "Pandas, which itself builds on top of Numpy, is the core data science library on which higher level libraries (e.g. for plotting) are building. \n",
    "\n",
    "Here we briefly present the main data structure offered by Pandas, the **DataFrame** and then show how the data in DataFrames are actually **arrays**, the main data structure of Numpy. This allows us in the next notebooks to explore Numpy before coming back at the end of the course to Pandas.\n",
    "\n",
    "Let's first import both Pandas and Numpy. Both have very commonly used abbreviations ```np``` and ```pd``` that you should use as well to simplify your life. Note that most sub-modules are directly accessible and you won't have to import specific ones as migth be the case for other libraries."
   ]
  },
  {
   "cell_type": "code",
   "execution_count": 1,
   "metadata": {
    "id": "Wj9o0gDqvu3i"
   },
   "outputs": [],
   "source": [
    "import pandas as pd\n",
    "import numpy as np"
   ]
  },
  {
   "cell_type": "markdown",
   "metadata": {
    "id": "daLzb8zpxkGZ"
   },
   "source": [
    "## Importing data\n",
    "Just like any other library, Pandas offers functionality through the *dot-notation* (as e.g. in ```math.cos()```). When surveying usage of Pandas in places like GitHub, it turns out that the most used function is the one allowing one to import a CSV (comma-separated values). Indeed while we could import tabular data with the ```read``` function, this becomes quickly cumbersome for complex data and Pandas takes care of all details for us. \n"
   ]
  },
  {
   "cell_type": "markdown",
   "metadata": {
    "id": "l7WZpmVl5isP"
   },
   "source": [
    "### read_*** functions\n",
    "\n",
    "As an example we import here the [bacteria_growth.csv](data/bacteria_growth.csv) file which contains information about the size and growth rate of bacteria in different conditions. Pandas has many importing functions and we use here ```read_csv```. You can see the list of all available importers by typing ```pd.read_``` and seeing options from autocomplete.\n",
    "\n",
    "The Pandas reader function can read local files or download them i.e. we can also indicate a url to a file."
   ]
  },
  {
   "cell_type": "code",
   "execution_count": 14,
   "metadata": {
    "id": "xzhJ68RFvwU5"
   },
   "outputs": [],
   "source": [
    "bacteria = pd.read_csv('data/bacteria_growth/bact_glucose.csv')"
   ]
  },
  {
   "cell_type": "markdown",
   "metadata": {
    "id": "mfolWD-P4BBg"
   },
   "source": [
    "Let's first see what this object is:"
   ]
  },
  {
   "cell_type": "code",
   "execution_count": 15,
   "metadata": {
    "colab": {
     "base_uri": "https://localhost:8080/"
    },
    "executionInfo": {
     "elapsed": 508,
     "status": "ok",
     "timestamp": 1614335599934,
     "user": {
      "displayName": "Guillaume Witz",
      "photoUrl": "https://lh3.googleusercontent.com/a-/AOh14GgT0K2JVYzEsjzsS5nhkUVjUrSIJ5jHzXnBoYrmVf8=s64",
      "userId": "16033870147214403532"
     },
     "user_tz": -60
    },
    "id": "Pvrppa_M4aNO",
    "outputId": "9bb3cc60-b523-4987-c7b7-3122dfd5c371"
   },
   "outputs": [
    {
     "data": {
      "text/plain": [
       "pandas.core.frame.DataFrame"
      ]
     },
     "execution_count": 15,
     "metadata": {},
     "output_type": "execute_result"
    }
   ],
   "source": [
    "type(bacteria)"
   ]
  },
  {
   "cell_type": "markdown",
   "metadata": {
    "id": "MgHzkxFd4cn4"
   },
   "source": [
    "We see that we are dealing with a DataFrame, the two-dimensional data structure offered by Pandas. If we just execute a cell with that variable we can display the first lines:"
   ]
  },
  {
   "cell_type": "code",
   "execution_count": 16,
   "metadata": {
    "colab": {
     "base_uri": "https://localhost:8080/",
     "height": 694
    },
    "executionInfo": {
     "elapsed": 451,
     "status": "ok",
     "timestamp": 1614335605986,
     "user": {
      "displayName": "Guillaume Witz",
      "photoUrl": "https://lh3.googleusercontent.com/a-/AOh14GgT0K2JVYzEsjzsS5nhkUVjUrSIJ5jHzXnBoYrmVf8=s64",
      "userId": "16033870147214403532"
     },
     "user_tz": -60
    },
    "id": "ZE700boZ4bDv",
    "outputId": "81ebde3e-8d05-49ee-98ad-c8b95da22447"
   },
   "outputs": [
    {
     "data": {
      "text/html": [
       "<div>\n",
       "<style scoped>\n",
       "    .dataframe tbody tr th:only-of-type {\n",
       "        vertical-align: middle;\n",
       "    }\n",
       "\n",
       "    .dataframe tbody tr th {\n",
       "        vertical-align: top;\n",
       "    }\n",
       "\n",
       "    .dataframe thead th {\n",
       "        text-align: right;\n",
       "    }\n",
       "</style>\n",
       "<table border=\"1\" class=\"dataframe\">\n",
       "  <thead>\n",
       "    <tr style=\"text-align: right;\">\n",
       "      <th></th>\n",
       "      <th>Ld</th>\n",
       "      <th>Lb</th>\n",
       "      <th>growth_rate</th>\n",
       "      <th>length</th>\n",
       "      <th>condition</th>\n",
       "    </tr>\n",
       "  </thead>\n",
       "  <tbody>\n",
       "    <tr>\n",
       "      <th>0</th>\n",
       "      <td>65.867358</td>\n",
       "      <td>46.012743</td>\n",
       "      <td>21.254797</td>\n",
       "      <td>[47 48 50 51 52 53 55 54 61 63 65]</td>\n",
       "      <td>glucose</td>\n",
       "    </tr>\n",
       "    <tr>\n",
       "      <th>1</th>\n",
       "      <td>51.483599</td>\n",
       "      <td>21.078821</td>\n",
       "      <td>15.524108</td>\n",
       "      <td>[22 21 24 24 27 25 27 29 31 30 32 35 35 40 39 ...</td>\n",
       "      <td>glucose</td>\n",
       "    </tr>\n",
       "    <tr>\n",
       "      <th>2</th>\n",
       "      <td>60.968305</td>\n",
       "      <td>23.334875</td>\n",
       "      <td>15.877922</td>\n",
       "      <td>[23 23 26 25 32 28 30 30 30 34 35 37 40 47 44 ...</td>\n",
       "      <td>glucose</td>\n",
       "    </tr>\n",
       "    <tr>\n",
       "      <th>3</th>\n",
       "      <td>54.485996</td>\n",
       "      <td>30.307942</td>\n",
       "      <td>15.362987</td>\n",
       "      <td>[31 33 34 35 35 37 39 41 43 44 49 50 53]</td>\n",
       "      <td>glucose</td>\n",
       "    </tr>\n",
       "    <tr>\n",
       "      <th>4</th>\n",
       "      <td>58.706814</td>\n",
       "      <td>27.763908</td>\n",
       "      <td>14.810464</td>\n",
       "      <td>[29 30 30 33 34 34 37 37 39 42 44 47 48 51 54 57]</td>\n",
       "      <td>glucose</td>\n",
       "    </tr>\n",
       "    <tr>\n",
       "      <th>...</th>\n",
       "      <td>...</td>\n",
       "      <td>...</td>\n",
       "      <td>...</td>\n",
       "      <td>...</td>\n",
       "      <td>...</td>\n",
       "    </tr>\n",
       "    <tr>\n",
       "      <th>222</th>\n",
       "      <td>54.703412</td>\n",
       "      <td>33.658902</td>\n",
       "      <td>18.554392</td>\n",
       "      <td>[36 37 36 37 38 39 41 43 44 47 49 52 54]</td>\n",
       "      <td>glucose</td>\n",
       "    </tr>\n",
       "    <tr>\n",
       "      <th>223</th>\n",
       "      <td>52.103220</td>\n",
       "      <td>26.761327</td>\n",
       "      <td>14.564780</td>\n",
       "      <td>[28 29 29 30 31 34 35 39 39 41 43 43 49 50]</td>\n",
       "      <td>glucose</td>\n",
       "    </tr>\n",
       "    <tr>\n",
       "      <th>224</th>\n",
       "      <td>65.489842</td>\n",
       "      <td>26.603234</td>\n",
       "      <td>14.619101</td>\n",
       "      <td>[27 29 31 30 31 34 35 34 39 42 43 44 48 49 52 ...</td>\n",
       "      <td>glucose</td>\n",
       "    </tr>\n",
       "    <tr>\n",
       "      <th>225</th>\n",
       "      <td>75.598004</td>\n",
       "      <td>45.519710</td>\n",
       "      <td>23.228589</td>\n",
       "      <td>[45 47 48 51 51 52 54 56 58 61 63 63 65 65 68 ...</td>\n",
       "      <td>glucose</td>\n",
       "    </tr>\n",
       "    <tr>\n",
       "      <th>226</th>\n",
       "      <td>55.935799</td>\n",
       "      <td>35.465559</td>\n",
       "      <td>18.255025</td>\n",
       "      <td>[36 38 39 39 41 42 44 45 48 50 52 55]</td>\n",
       "      <td>glucose</td>\n",
       "    </tr>\n",
       "  </tbody>\n",
       "</table>\n",
       "<p>227 rows × 5 columns</p>\n",
       "</div>"
      ],
      "text/plain": [
       "            Ld         Lb  growth_rate  \\\n",
       "0    65.867358  46.012743    21.254797   \n",
       "1    51.483599  21.078821    15.524108   \n",
       "2    60.968305  23.334875    15.877922   \n",
       "3    54.485996  30.307942    15.362987   \n",
       "4    58.706814  27.763908    14.810464   \n",
       "..         ...        ...          ...   \n",
       "222  54.703412  33.658902    18.554392   \n",
       "223  52.103220  26.761327    14.564780   \n",
       "224  65.489842  26.603234    14.619101   \n",
       "225  75.598004  45.519710    23.228589   \n",
       "226  55.935799  35.465559    18.255025   \n",
       "\n",
       "                                                length condition  \n",
       "0                   [47 48 50 51 52 53 55 54 61 63 65]   glucose  \n",
       "1    [22 21 24 24 27 25 27 29 31 30 32 35 35 40 39 ...   glucose  \n",
       "2    [23 23 26 25 32 28 30 30 30 34 35 37 40 47 44 ...   glucose  \n",
       "3             [31 33 34 35 35 37 39 41 43 44 49 50 53]   glucose  \n",
       "4    [29 30 30 33 34 34 37 37 39 42 44 47 48 51 54 57]   glucose  \n",
       "..                                                 ...       ...  \n",
       "222           [36 37 36 37 38 39 41 43 44 47 49 52 54]   glucose  \n",
       "223        [28 29 29 30 31 34 35 39 39 41 43 43 49 50]   glucose  \n",
       "224  [27 29 31 30 31 34 35 34 39 42 43 44 48 49 52 ...   glucose  \n",
       "225  [45 47 48 51 51 52 54 56 58 61 63 63 65 65 68 ...   glucose  \n",
       "226              [36 38 39 39 41 42 44 45 48 50 52 55]   glucose  \n",
       "\n",
       "[227 rows x 5 columns]"
      ]
     },
     "execution_count": 16,
     "metadata": {},
     "output_type": "execute_result"
    }
   ],
   "source": [
    "bacteria"
   ]
  },
  {
   "cell_type": "markdown",
   "metadata": {
    "id": "cJJ81NGK42fG"
   },
   "source": [
    "We see that we are dealing with tabular data of various types: we have text (e.g. ```condition```), numbers (```Ld```) and even lists (```length```) and numbers. Just like in a tabular sheet, each column has a label and each line has an index (column in bold on the left), so that every element can be located with these *coordinates*."
   ]
  },
  {
   "cell_type": "markdown",
   "metadata": {},
   "source": [
    "## Methods attached to dataframes\n",
    "\n",
    "We have seen before that every variable in Python has a series of functions attached to it (methods). For example if we have a text variable (string) we can e.g. split it at a given place:"
   ]
  },
  {
   "cell_type": "code",
   "execution_count": 17,
   "metadata": {
    "colab": {
     "base_uri": "https://localhost:8080/"
    },
    "executionInfo": {
     "elapsed": 524,
     "status": "ok",
     "timestamp": 1614335640928,
     "user": {
      "displayName": "Guillaume Witz",
      "photoUrl": "https://lh3.googleusercontent.com/a-/AOh14GgT0K2JVYzEsjzsS5nhkUVjUrSIJ5jHzXnBoYrmVf8=s64",
      "userId": "16033870147214403532"
     },
     "user_tz": -60
    },
    "id": "8Agw1WO14wYu",
    "outputId": "987c9fb5-88c7-4b88-906b-e1e06e450948"
   },
   "outputs": [
    {
     "data": {
      "text/plain": [
       "['This', 'is', 'a', 'sentence', 'with', 'spaces.']"
      ]
     },
     "execution_count": 17,
     "metadata": {},
     "output_type": "execute_result"
    }
   ],
   "source": [
    "my_string = 'This is a sentence with spaces.'\n",
    "my_string.split(' ')"
   ]
  },
  {
   "cell_type": "markdown",
   "metadata": {
    "id": "CgSGrjzZ6JtO"
   },
   "source": [
    "The same logic applies to Pandas DataFrames and in general to any new variable that is created by a given package: they all come with a series of methods attached to them.\n",
    "\n",
    "For example if we only want to display the fist 5 lines of the DataFrame, we can use the ```head``` method:"
   ]
  },
  {
   "cell_type": "code",
   "execution_count": 18,
   "metadata": {
    "colab": {
     "base_uri": "https://localhost:8080/",
     "height": 309
    },
    "executionInfo": {
     "elapsed": 473,
     "status": "ok",
     "timestamp": 1614335653131,
     "user": {
      "displayName": "Guillaume Witz",
      "photoUrl": "https://lh3.googleusercontent.com/a-/AOh14GgT0K2JVYzEsjzsS5nhkUVjUrSIJ5jHzXnBoYrmVf8=s64",
      "userId": "16033870147214403532"
     },
     "user_tz": -60
    },
    "id": "8V5lYBN85_TO",
    "outputId": "d3dddf06-dbe5-4acd-cb17-bed277bf1570"
   },
   "outputs": [
    {
     "data": {
      "text/html": [
       "<div>\n",
       "<style scoped>\n",
       "    .dataframe tbody tr th:only-of-type {\n",
       "        vertical-align: middle;\n",
       "    }\n",
       "\n",
       "    .dataframe tbody tr th {\n",
       "        vertical-align: top;\n",
       "    }\n",
       "\n",
       "    .dataframe thead th {\n",
       "        text-align: right;\n",
       "    }\n",
       "</style>\n",
       "<table border=\"1\" class=\"dataframe\">\n",
       "  <thead>\n",
       "    <tr style=\"text-align: right;\">\n",
       "      <th></th>\n",
       "      <th>Ld</th>\n",
       "      <th>Lb</th>\n",
       "      <th>growth_rate</th>\n",
       "      <th>length</th>\n",
       "      <th>condition</th>\n",
       "    </tr>\n",
       "  </thead>\n",
       "  <tbody>\n",
       "    <tr>\n",
       "      <th>0</th>\n",
       "      <td>65.867358</td>\n",
       "      <td>46.012743</td>\n",
       "      <td>21.254797</td>\n",
       "      <td>[47 48 50 51 52 53 55 54 61 63 65]</td>\n",
       "      <td>glucose</td>\n",
       "    </tr>\n",
       "    <tr>\n",
       "      <th>1</th>\n",
       "      <td>51.483599</td>\n",
       "      <td>21.078821</td>\n",
       "      <td>15.524108</td>\n",
       "      <td>[22 21 24 24 27 25 27 29 31 30 32 35 35 40 39 ...</td>\n",
       "      <td>glucose</td>\n",
       "    </tr>\n",
       "    <tr>\n",
       "      <th>2</th>\n",
       "      <td>60.968305</td>\n",
       "      <td>23.334875</td>\n",
       "      <td>15.877922</td>\n",
       "      <td>[23 23 26 25 32 28 30 30 30 34 35 37 40 47 44 ...</td>\n",
       "      <td>glucose</td>\n",
       "    </tr>\n",
       "    <tr>\n",
       "      <th>3</th>\n",
       "      <td>54.485996</td>\n",
       "      <td>30.307942</td>\n",
       "      <td>15.362987</td>\n",
       "      <td>[31 33 34 35 35 37 39 41 43 44 49 50 53]</td>\n",
       "      <td>glucose</td>\n",
       "    </tr>\n",
       "    <tr>\n",
       "      <th>4</th>\n",
       "      <td>58.706814</td>\n",
       "      <td>27.763908</td>\n",
       "      <td>14.810464</td>\n",
       "      <td>[29 30 30 33 34 34 37 37 39 42 44 47 48 51 54 57]</td>\n",
       "      <td>glucose</td>\n",
       "    </tr>\n",
       "  </tbody>\n",
       "</table>\n",
       "</div>"
      ],
      "text/plain": [
       "          Ld         Lb  growth_rate  \\\n",
       "0  65.867358  46.012743    21.254797   \n",
       "1  51.483599  21.078821    15.524108   \n",
       "2  60.968305  23.334875    15.877922   \n",
       "3  54.485996  30.307942    15.362987   \n",
       "4  58.706814  27.763908    14.810464   \n",
       "\n",
       "                                              length condition  \n",
       "0                 [47 48 50 51 52 53 55 54 61 63 65]   glucose  \n",
       "1  [22 21 24 24 27 25 27 29 31 30 32 35 35 40 39 ...   glucose  \n",
       "2  [23 23 26 25 32 28 30 30 30 34 35 37 40 47 44 ...   glucose  \n",
       "3           [31 33 34 35 35 37 39 41 43 44 49 50 53]   glucose  \n",
       "4  [29 30 30 33 34 34 37 37 39 42 44 47 48 51 54 57]   glucose  "
      ]
     },
     "execution_count": 18,
     "metadata": {},
     "output_type": "execute_result"
    }
   ],
   "source": [
    "bacteria.head(5)"
   ]
  },
  {
   "cell_type": "markdown",
   "metadata": {
    "id": "BNuROR_d6htS"
   },
   "source": [
    "We will learn later how to extract statistics, but just as an example of functions that exsit, you can for example get a basic statistical description of a DataFrame using the ```describe``` method:"
   ]
  },
  {
   "cell_type": "code",
   "execution_count": 19,
   "metadata": {
    "colab": {
     "base_uri": "https://localhost:8080/",
     "height": 317
    },
    "executionInfo": {
     "elapsed": 521,
     "status": "ok",
     "timestamp": 1614335699038,
     "user": {
      "displayName": "Guillaume Witz",
      "photoUrl": "https://lh3.googleusercontent.com/a-/AOh14GgT0K2JVYzEsjzsS5nhkUVjUrSIJ5jHzXnBoYrmVf8=s64",
      "userId": "16033870147214403532"
     },
     "user_tz": -60
    },
    "id": "1UT83ZNq6Uzy",
    "outputId": "202b50b2-22d8-408b-c55a-e2feb61c8645"
   },
   "outputs": [
    {
     "data": {
      "text/html": [
       "<div>\n",
       "<style scoped>\n",
       "    .dataframe tbody tr th:only-of-type {\n",
       "        vertical-align: middle;\n",
       "    }\n",
       "\n",
       "    .dataframe tbody tr th {\n",
       "        vertical-align: top;\n",
       "    }\n",
       "\n",
       "    .dataframe thead th {\n",
       "        text-align: right;\n",
       "    }\n",
       "</style>\n",
       "<table border=\"1\" class=\"dataframe\">\n",
       "  <thead>\n",
       "    <tr style=\"text-align: right;\">\n",
       "      <th></th>\n",
       "      <th>Ld</th>\n",
       "      <th>Lb</th>\n",
       "      <th>growth_rate</th>\n",
       "    </tr>\n",
       "  </thead>\n",
       "  <tbody>\n",
       "    <tr>\n",
       "      <th>count</th>\n",
       "      <td>227.000000</td>\n",
       "      <td>227.000000</td>\n",
       "      <td>227.000000</td>\n",
       "    </tr>\n",
       "    <tr>\n",
       "      <th>mean</th>\n",
       "      <td>57.483635</td>\n",
       "      <td>27.948543</td>\n",
       "      <td>18.678329</td>\n",
       "    </tr>\n",
       "    <tr>\n",
       "      <th>std</th>\n",
       "      <td>7.808054</td>\n",
       "      <td>5.874752</td>\n",
       "      <td>4.683287</td>\n",
       "    </tr>\n",
       "    <tr>\n",
       "      <th>min</th>\n",
       "      <td>42.948384</td>\n",
       "      <td>19.523587</td>\n",
       "      <td>11.785992</td>\n",
       "    </tr>\n",
       "    <tr>\n",
       "      <th>25%</th>\n",
       "      <td>51.694862</td>\n",
       "      <td>24.169701</td>\n",
       "      <td>16.065863</td>\n",
       "    </tr>\n",
       "    <tr>\n",
       "      <th>50%</th>\n",
       "      <td>56.017610</td>\n",
       "      <td>26.263799</td>\n",
       "      <td>17.661124</td>\n",
       "    </tr>\n",
       "    <tr>\n",
       "      <th>75%</th>\n",
       "      <td>60.595562</td>\n",
       "      <td>30.082148</td>\n",
       "      <td>19.921363</td>\n",
       "    </tr>\n",
       "    <tr>\n",
       "      <th>max</th>\n",
       "      <td>103.100417</td>\n",
       "      <td>56.252563</td>\n",
       "      <td>53.514923</td>\n",
       "    </tr>\n",
       "  </tbody>\n",
       "</table>\n",
       "</div>"
      ],
      "text/plain": [
       "               Ld          Lb  growth_rate\n",
       "count  227.000000  227.000000   227.000000\n",
       "mean    57.483635   27.948543    18.678329\n",
       "std      7.808054    5.874752     4.683287\n",
       "min     42.948384   19.523587    11.785992\n",
       "25%     51.694862   24.169701    16.065863\n",
       "50%     56.017610   26.263799    17.661124\n",
       "75%     60.595562   30.082148    19.921363\n",
       "max    103.100417   56.252563    53.514923"
      ]
     },
     "execution_count": 19,
     "metadata": {},
     "output_type": "execute_result"
    }
   ],
   "source": [
    "bacteria.describe()"
   ]
  },
  {
   "cell_type": "markdown",
   "metadata": {
    "id": "6gQcF8NQ6uZe"
   },
   "source": [
    "We see that in this particular case, the returned object is a DataFrame as well!\n",
    "\n",
    "## Accessing columns\n",
    "\n",
    "If we want to work with only a given column from a dataframe, we can extract it. Just like when we want to extract an element from a regular list, e.g. ```my_list[3]```, for Pandas we also use the square parenthesis (brackets) but this time with the name of the column:"
   ]
  },
  {
   "cell_type": "code",
   "execution_count": 20,
   "metadata": {
    "colab": {
     "base_uri": "https://localhost:8080/"
    },
    "executionInfo": {
     "elapsed": 512,
     "status": "ok",
     "timestamp": 1614335808896,
     "user": {
      "displayName": "Guillaume Witz",
      "photoUrl": "https://lh3.googleusercontent.com/a-/AOh14GgT0K2JVYzEsjzsS5nhkUVjUrSIJ5jHzXnBoYrmVf8=s64",
      "userId": "16033870147214403532"
     },
     "user_tz": -60
    },
    "id": "GBOj3B5r6giA",
    "outputId": "71909656-de0c-41e2-d845-47f8f8c6e5d8"
   },
   "outputs": [
    {
     "data": {
      "text/plain": [
       "0      65.867358\n",
       "1      51.483599\n",
       "2      60.968305\n",
       "3      54.485996\n",
       "4      58.706814\n",
       "         ...    \n",
       "222    54.703412\n",
       "223    52.103220\n",
       "224    65.489842\n",
       "225    75.598004\n",
       "226    55.935799\n",
       "Name: Ld, Length: 227, dtype: float64"
      ]
     },
     "execution_count": 20,
     "metadata": {},
     "output_type": "execute_result"
    }
   ],
   "source": [
    "some_column = bacteria['Ld']\n",
    "some_column"
   ]
  },
  {
   "cell_type": "markdown",
   "metadata": {
    "id": "I2QOrlxG_hwq"
   },
   "source": [
    "As we have a single columns here, we are not dealing with a DataFrame anymore but with a Series:"
   ]
  },
  {
   "cell_type": "code",
   "execution_count": 21,
   "metadata": {
    "colab": {
     "base_uri": "https://localhost:8080/"
    },
    "executionInfo": {
     "elapsed": 471,
     "status": "ok",
     "timestamp": 1614335813365,
     "user": {
      "displayName": "Guillaume Witz",
      "photoUrl": "https://lh3.googleusercontent.com/a-/AOh14GgT0K2JVYzEsjzsS5nhkUVjUrSIJ5jHzXnBoYrmVf8=s64",
      "userId": "16033870147214403532"
     },
     "user_tz": -60
    },
    "id": "lEKnBjNS-x8l",
    "outputId": "36473f61-6c42-43a2-9bf2-b248fa764773"
   },
   "outputs": [
    {
     "data": {
      "text/plain": [
       "pandas.core.series.Series"
      ]
     },
     "execution_count": 21,
     "metadata": {},
     "output_type": "execute_result"
    }
   ],
   "source": [
    "type(some_column)"
   ]
  },
  {
   "cell_type": "markdown",
   "metadata": {
    "id": "qy1TSUsq_vjj"
   },
   "source": [
    "We won't explore much the Series object on its own in this course, but know that you can for example create a DataFrame from scratch by combining multiple Series.\n",
    "\n",
    "## What is underlying Pandas\n",
    "\n",
    "We see above that ```some_column``` is composed of and index (0, 1, 2 etc) and the corresponding values (65.86, 51.48 etc.). Underlying this object is just a list of numbers that we can access using the ```values``` parameter:"
   ]
  },
  {
   "cell_type": "code",
   "execution_count": 22,
   "metadata": {
    "colab": {
     "base_uri": "https://localhost:8080/"
    },
    "executionInfo": {
     "elapsed": 600,
     "status": "ok",
     "timestamp": 1614335855898,
     "user": {
      "displayName": "Guillaume Witz",
      "photoUrl": "https://lh3.googleusercontent.com/a-/AOh14GgT0K2JVYzEsjzsS5nhkUVjUrSIJ5jHzXnBoYrmVf8=s64",
      "userId": "16033870147214403532"
     },
     "user_tz": -60
    },
    "id": "kbW0VZx1_pap",
    "outputId": "a5fc66e7-234e-451a-e554-fe978817ac40"
   },
   "outputs": [
    {
     "data": {
      "text/plain": [
       "array([ 65.86735805,  51.48359947,  60.96830488,  54.48599598,\n",
       "        58.70681418,  50.24489709,  54.57645043,  51.31471177,\n",
       "        55.40598884,  53.1871301 ,  53.4183105 ,  58.27425747,\n",
       "        53.48041021,  54.1192352 ,  54.84970684,  50.0999626 ,\n",
       "        60.19155736,  56.83683752,  54.4873395 ,  56.01761002,\n",
       "        62.59942566,  51.31843236,  56.62032762,  52.05086737,\n",
       "        50.18816107,  51.81342814,  51.18012999,  59.05227627,\n",
       "        49.65537319,  57.81452246,  53.58060185,  60.16063682,\n",
       "        56.74832791,  58.80612207,  52.93445669,  52.33525619,\n",
       "        58.73078548,  60.02897025,  58.62064383,  52.07703658,\n",
       "        59.93047728,  51.63528828,  49.33709914,  58.06904114,\n",
       "        67.20348055,  61.44785587,  54.40922809,  47.18800193,\n",
       "        57.44733883,  65.84898568,  56.81898508,  51.92820273,\n",
       "        65.55086101,  63.10502017,  59.84902928,  57.80726022,\n",
       "        61.50449708,  60.89626607,  60.00633675,  56.18448575,\n",
       "        60.03863271,  60.07136331,  65.89833811,  48.09822281,\n",
       "        60.29485834,  56.1998035 ,  58.85281613,  49.05859573,\n",
       "        51.27717743,  64.0689021 ,  47.1747763 ,  51.72572639,\n",
       "        57.29802203,  55.80580736,  59.52277451,  55.47836502,\n",
       "        56.91346241,  55.99131729,  46.84328087,  51.66399769,\n",
       "        49.9808634 ,  59.14622578,  50.42855323,  66.99284664,\n",
       "        42.94838384,  55.36839129,  53.35053528,  58.34619458,\n",
       "        70.87192086,  50.23464848,  54.50350968,  49.86495451,\n",
       "        58.8083335 ,  63.5353375 ,  60.2885076 ,  55.5279913 ,\n",
       "        65.39878404,  66.62657586,  49.79143869,  57.18523243,\n",
       "        54.00705592,  57.25450826,  57.92178461,  59.44144411,\n",
       "        55.89004505,  61.08930692,  62.07652288,  57.56897586,\n",
       "        58.49929247,  51.19490116,  51.05419439,  58.7093461 ,\n",
       "        66.62366349,  50.83089086,  50.55936785,  50.19402874,\n",
       "        59.16529717,  55.6903846 ,  61.84847041,  51.31296035,\n",
       "        50.17235234,  51.9174662 ,  66.01567999,  66.55201424,\n",
       "        51.19614334,  61.75876208,  59.75908795,  63.04116188,\n",
       "        58.87693597,  48.25061892,  62.87811731,  48.39347294,\n",
       "        59.67670402,  68.08300611,  67.5443352 ,  46.96664012,\n",
       "        54.15313672,  55.9448326 ,  54.72329253,  48.22898719,\n",
       "        54.34860352,  73.55693542,  53.91531008,  67.83491621,\n",
       "        50.46538822,  53.24534465,  52.83699945,  65.12571105,\n",
       "        55.65192318,  52.96344297,  59.4802889 ,  59.97496902,\n",
       "        53.5923072 ,  55.69773929,  69.4111622 ,  61.67330975,\n",
       "        64.39883873,  54.37823559,  49.56535909,  49.8029475 ,\n",
       "        62.17653518,  66.151179  ,  53.13012868,  53.06602045,\n",
       "        54.63820179,  49.22563262,  50.70572689,  50.95451802,\n",
       "        60.03940069,  46.2911349 ,  65.43380014,  50.00554803,\n",
       "        47.78080765,  51.42347314,  55.6544806 ,  50.61189259,\n",
       "        51.1372309 ,  53.56871773,  51.53059181,  62.87307188,\n",
       "        49.43396424,  58.03753982,  49.50563842,  48.94341959,\n",
       "        51.49097073,  55.30271022,  61.79442286,  78.56880059,\n",
       "        57.137197  ,  56.14124685,  52.02681761,  56.5403051 ,\n",
       "        52.91999468,  83.37388178,  70.19817061,  65.23836864,\n",
       "        69.25939833,  78.58572254,  56.80059069,  59.20789803,\n",
       "        54.66316364,  61.65881679,  80.11423202,  53.32067741,\n",
       "        48.50357186,  44.91421381, 103.10041713,  56.14461896,\n",
       "        50.61996376,  62.88658895,  51.37850881,  80.74712626,\n",
       "        70.4832782 ,  56.247919  ,  66.85236584,  78.52117626,\n",
       "        52.53407848,  65.25210787,  50.41860078,  56.88536279,\n",
       "        55.89804188,  81.94450033,  54.7034125 ,  52.10321968,\n",
       "        65.4898424 ,  75.598004  ,  55.93579914])"
      ]
     },
     "execution_count": 22,
     "metadata": {},
     "output_type": "execute_result"
    }
   ],
   "source": [
    "actual_values = some_column.values\n",
    "actual_values"
   ]
  },
  {
   "cell_type": "markdown",
   "metadata": {
    "id": "HBOCZwuCAwR0"
   },
   "source": [
    "We see that the output is not just a simple Python list. It is in fact called an ```array```. If we ask for the type of this object, we get:"
   ]
  },
  {
   "cell_type": "code",
   "execution_count": 23,
   "metadata": {
    "colab": {
     "base_uri": "https://localhost:8080/"
    },
    "executionInfo": {
     "elapsed": 509,
     "status": "ok",
     "timestamp": 1614335859380,
     "user": {
      "displayName": "Guillaume Witz",
      "photoUrl": "https://lh3.googleusercontent.com/a-/AOh14GgT0K2JVYzEsjzsS5nhkUVjUrSIJ5jHzXnBoYrmVf8=s64",
      "userId": "16033870147214403532"
     },
     "user_tz": -60
    },
    "id": "RDGVdnsuArRh",
    "outputId": "1063deaa-6f14-4601-d4bc-3bdcc0b7ce9b"
   },
   "outputs": [
    {
     "data": {
      "text/plain": [
       "numpy.ndarray"
      ]
     },
     "execution_count": 23,
     "metadata": {},
     "output_type": "execute_result"
    }
   ],
   "source": [
    "type(actual_values)"
   ]
  },
  {
   "cell_type": "markdown",
   "metadata": {
    "id": "i8P0PD2ZA-Nt"
   },
   "source": [
    "The lists of values contained in Pandas DataFrame are in fact Numpy arrays. These are in principle just lists of lists (with any dimensions) but in contrast to native Python lists, we can handle then as single objects and for example execute computations directly on the whole array instead of writing a loop traversing all values:"
   ]
  },
  {
   "cell_type": "code",
   "execution_count": 24,
   "metadata": {},
   "outputs": [
    {
     "data": {
      "text/plain": [
       "array([ 6.58673581,  5.14835995,  6.09683049,  5.4485996 ,  5.87068142,\n",
       "        5.02448971,  5.45764504,  5.13147118,  5.54059888,  5.31871301,\n",
       "        5.34183105,  5.82742575,  5.34804102,  5.41192352,  5.48497068,\n",
       "        5.00999626,  6.01915574,  5.68368375,  5.44873395,  5.601761  ,\n",
       "        6.25994257,  5.13184324,  5.66203276,  5.20508674,  5.01881611,\n",
       "        5.18134281,  5.118013  ,  5.90522763,  4.96553732,  5.78145225,\n",
       "        5.35806019,  6.01606368,  5.67483279,  5.88061221,  5.29344567,\n",
       "        5.23352562,  5.87307855,  6.00289703,  5.86206438,  5.20770366,\n",
       "        5.99304773,  5.16352883,  4.93370991,  5.80690411,  6.72034805,\n",
       "        6.14478559,  5.44092281,  4.71880019,  5.74473388,  6.58489857,\n",
       "        5.68189851,  5.19282027,  6.5550861 ,  6.31050202,  5.98490293,\n",
       "        5.78072602,  6.15044971,  6.08962661,  6.00063367,  5.61844857,\n",
       "        6.00386327,  6.00713633,  6.58983381,  4.80982228,  6.02948583,\n",
       "        5.61998035,  5.88528161,  4.90585957,  5.12771774,  6.40689021,\n",
       "        4.71747763,  5.17257264,  5.7298022 ,  5.58058074,  5.95227745,\n",
       "        5.5478365 ,  5.69134624,  5.59913173,  4.68432809,  5.16639977,\n",
       "        4.99808634,  5.91462258,  5.04285532,  6.69928466,  4.29483838,\n",
       "        5.53683913,  5.33505353,  5.83461946,  7.08719209,  5.02346485,\n",
       "        5.45035097,  4.98649545,  5.88083335,  6.35353375,  6.02885076,\n",
       "        5.55279913,  6.5398784 ,  6.66265759,  4.97914387,  5.71852324,\n",
       "        5.40070559,  5.72545083,  5.79217846,  5.94414441,  5.5890045 ,\n",
       "        6.10893069,  6.20765229,  5.75689759,  5.84992925,  5.11949012,\n",
       "        5.10541944,  5.87093461,  6.66236635,  5.08308909,  5.05593679,\n",
       "        5.01940287,  5.91652972,  5.56903846,  6.18484704,  5.13129604,\n",
       "        5.01723523,  5.19174662,  6.601568  ,  6.65520142,  5.11961433,\n",
       "        6.17587621,  5.9759088 ,  6.30411619,  5.8876936 ,  4.82506189,\n",
       "        6.28781173,  4.83934729,  5.9676704 ,  6.80830061,  6.75443352,\n",
       "        4.69666401,  5.41531367,  5.59448326,  5.47232925,  4.82289872,\n",
       "        5.43486035,  7.35569354,  5.39153101,  6.78349162,  5.04653882,\n",
       "        5.32453447,  5.28369995,  6.5125711 ,  5.56519232,  5.2963443 ,\n",
       "        5.94802889,  5.9974969 ,  5.35923072,  5.56977393,  6.94111622,\n",
       "        6.16733098,  6.43988387,  5.43782356,  4.95653591,  4.98029475,\n",
       "        6.21765352,  6.6151179 ,  5.31301287,  5.30660204,  5.46382018,\n",
       "        4.92256326,  5.07057269,  5.0954518 ,  6.00394007,  4.62911349,\n",
       "        6.54338001,  5.0005548 ,  4.77808077,  5.14234731,  5.56544806,\n",
       "        5.06118926,  5.11372309,  5.35687177,  5.15305918,  6.28730719,\n",
       "        4.94339642,  5.80375398,  4.95056384,  4.89434196,  5.14909707,\n",
       "        5.53027102,  6.17944229,  7.85688006,  5.7137197 ,  5.61412468,\n",
       "        5.20268176,  5.65403051,  5.29199947,  8.33738818,  7.01981706,\n",
       "        6.52383686,  6.92593983,  7.85857225,  5.68005907,  5.9207898 ,\n",
       "        5.46631636,  6.16588168,  8.0114232 ,  5.33206774,  4.85035719,\n",
       "        4.49142138, 10.31004171,  5.6144619 ,  5.06199638,  6.2886589 ,\n",
       "        5.13785088,  8.07471263,  7.04832782,  5.6247919 ,  6.68523658,\n",
       "        7.85211763,  5.25340785,  6.52521079,  5.04186008,  5.68853628,\n",
       "        5.58980419,  8.19445003,  5.47034125,  5.21032197,  6.54898424,\n",
       "        7.5598004 ,  5.59357991])"
      ]
     },
     "execution_count": 24,
     "metadata": {},
     "output_type": "execute_result"
    }
   ],
   "source": [
    "actual_values / 10"
   ]
  },
  {
   "cell_type": "markdown",
   "metadata": {},
   "source": [
    "\n",
    "\n",
    "A large part of the computing logic in Pandas is inspired from Numpy, therefore we now make a detour to Numpy before coming back to DataFrames which is the data type we are mostly interested in in this course."
   ]
  },
  {
   "cell_type": "markdown",
   "metadata": {
    "id": "5Iosdk-tYtsd"
   },
   "source": [
    "## Exercise\n",
    "\n",
    "1. Try to import the ```penguins.csv``` file in the ```data``` folder\n",
    "\n",
    "2. Use the ```head``` method to see the first 6 elements of the table.\n",
    "\n",
    "3. Can you find a method (function attached to the object) to calculate only means in the table?\n",
    "\n",
    "4. What do you observe in the result? Are some columns missing?"
   ]
  },
  {
   "cell_type": "code",
   "execution_count": null,
   "metadata": {
    "id": "jc8tXuIDYuX2"
   },
   "outputs": [],
   "source": []
  }
 ],
 "metadata": {
  "colab": {
   "authorship_tag": "ABX9TyNzyY7wvpRizXWhJX+EEyiI",
   "collapsed_sections": [],
   "name": "01-Intro_Pandas_Numpy.ipynb",
   "provenance": [],
   "toc_visible": true
  },
  "kernelspec": {
   "display_name": "Python 3 (ipykernel)",
   "language": "python",
   "name": "python3"
  },
  "language_info": {
   "codemirror_mode": {
    "name": "ipython",
    "version": 3
   },
   "file_extension": ".py",
   "mimetype": "text/x-python",
   "name": "python",
   "nbconvert_exporter": "python",
   "pygments_lexer": "ipython3",
   "version": "3.9.10"
  }
 },
 "nbformat": 4,
 "nbformat_minor": 4
}
