{
 "cells": [
  {
   "cell_type": "markdown",
   "id": "730ccba3-728e-4f58-9b42-034c40c82112",
   "metadata": {},
   "source": [
    "# Functions and packages"
   ]
  },
  {
   "cell_type": "markdown",
   "id": "14f2ce2f-057b-4ef3-8066-8b4a80d85bc8",
   "metadata": {},
   "source": [
    "We have seen that we could define variables and do some basic operations with them. If we want to go beyond simple arithmetic we need more **complex functions** that can operate on variables.\n",
    "\n",
    "Just like a regular function like $y = f(x)$, Python functions have some definition $f$, take an input $x$ and give an output $y$. There are four types of functions: built-in functions (coming with Python), functions that you define, functions from internal Python packages (no installation necessary) and functions from external packages (installation necessary)."
   ]
  },
  {
   "cell_type": "markdown",
   "id": "46eb0dd3-8d55-4c0a-add7-52eaafe52720",
   "metadata": {},
   "source": [
    "## Built-in functions\n",
    "\n",
    "Python comes with a series of default functions that are of general interest and often used. For example if you define a variable, you can ask for its type: is it an integer, text etc. For this you can use the ```type``` function taking a variable as input and outputting the type:"
   ]
  },
  {
   "cell_type": "code",
   "execution_count": 1,
   "id": "ee24f034-7c84-46a2-b07f-bfd41aa92bdb",
   "metadata": {},
   "outputs": [],
   "source": [
    "a = 3"
   ]
  },
  {
   "cell_type": "code",
   "execution_count": 2,
   "id": "469c77cd-b8cf-4cd5-8774-ba69615df1f9",
   "metadata": {},
   "outputs": [
    {
     "data": {
      "text/plain": [
       "int"
      ]
     },
     "execution_count": 2,
     "metadata": {},
     "output_type": "execute_result"
    }
   ],
   "source": [
    "type(a)"
   ]
  },
  {
   "cell_type": "markdown",
   "id": "29389442-ec9c-46f9-b6e1-4dae2c1ead36",
   "metadata": {},
   "source": [
    "As you see, function again are called like a mathematical functio."
   ]
  },
  {
   "cell_type": "markdown",
   "id": "6f49e6d7-aad1-47f7-ba41-7686c4928d39",
   "metadata": {},
   "source": [
    "## You own function\n",
    "\n",
    "To better understand the behavior of functions, we now see how we can create our own one. Imagine for example that we need a function $f(x, a, b) = a * x + b$. For this we can use and **define functions**. Here's how we can define the previous function:"
   ]
  },
  {
   "cell_type": "code",
   "execution_count": 3,
   "id": "2df76625-dc4d-43d5-98c1-478a91e466a0",
   "metadata": {},
   "outputs": [],
   "source": [
    "def my_fun(x, a, b):\n",
    "    out = a * x + b\n",
    "    return out"
   ]
  },
  {
   "cell_type": "markdown",
   "id": "5433760d-33a7-49ed-8a9c-5bf8c824b878",
   "metadata": {},
   "source": [
    "We see a series of Python rules to define a function:\n",
    "\n",
    "- we use the word **```def```** to signal that we are creating a function\n",
    "- we pick a **function name**, here ```my_fun```\n",
    "- we open the **parenthesis** and put all our **variables ```x```, ```a```, ```b```** in there, just like when we do mathematics\n",
    "- we do some operation inside the function. **Inside** the function is signal with the **indentation**: everything that belong inside the function (there could be many more lines) is shifted by a *single tab* or *three space* to the right\n",
    "- we use the word **```return```** to tell what is the output of the function, here the variable ```out```\n",
    "\n",
    "We can now use this function as if we were doing mathematics: we pick a a value for the three parameters e.g. $f(3, 2, 5)$"
   ]
  },
  {
   "cell_type": "code",
   "execution_count": 4,
   "id": "528a4589-172f-4202-9366-7dc79e7c53f0",
   "metadata": {},
   "outputs": [
    {
     "data": {
      "text/plain": [
       "11"
      ]
     },
     "execution_count": 4,
     "metadata": {},
     "output_type": "execute_result"
    }
   ],
   "source": [
    "my_fun(3, 2, 5)"
   ]
  },
  {
   "cell_type": "markdown",
   "id": "a1922abe-264b-4802-961f-7c8286a1a0f4",
   "metadata": {},
   "source": [
    "If we need to use the output, we can just assign it to a new variable:"
   ]
  },
  {
   "cell_type": "code",
   "execution_count": 5,
   "id": "036530c8-7be2-423e-9f22-98c9b78729fe",
   "metadata": {},
   "outputs": [],
   "source": [
    "y = my_fun(3, 2, 5)"
   ]
  },
  {
   "cell_type": "code",
   "execution_count": 6,
   "id": "f5d0ea6f-6fe3-41eb-a11d-c43080c35588",
   "metadata": {},
   "outputs": [
    {
     "data": {
      "text/plain": [
       "11"
      ]
     },
     "execution_count": 6,
     "metadata": {},
     "output_type": "execute_result"
    }
   ],
   "source": [
    "y"
   ]
  },
  {
   "cell_type": "markdown",
   "id": "97b411e6-e1f4-4490-b728-2810e93e9ab5",
   "metadata": {},
   "source": [
    "## Python modules\n",
    "\n",
    "The mechanism of Python to enhance its capabilities are **modules**. Those are software packages that can be imported in a notebook or script. Python itself comes with a series of modules. Unlike the ```type``` function or the function that we defined, those modules need to be imported. For example we can import the ```os``` module that deals with files, paths etc."
   ]
  },
  {
   "cell_type": "code",
   "execution_count": 7,
   "id": "49732f24-5c9f-4a35-8dd4-da94b756e23d",
   "metadata": {},
   "outputs": [],
   "source": [
    "import os"
   ]
  },
  {
   "cell_type": "markdown",
   "id": "87f094dc-214b-4aee-bb4d-01911feb6ddf",
   "metadata": {},
   "source": [
    "The ```import``` statement above says that we want to get access to the ```os``` module. Now we can access the functions from the ```os``` module via the dot notation. For example, we can ask what is the current path (where we are located):"
   ]
  },
  {
   "cell_type": "code",
   "execution_count": 8,
   "id": "a2731426-6d90-4798-b7c4-c7933a638809",
   "metadata": {},
   "outputs": [
    {
     "data": {
      "text/plain": [
       "'/Users/gw18g940/GoogleDrive/BernMIC/Trainings/DAVPy_intro/notebooks'"
      ]
     },
     "execution_count": 8,
     "metadata": {},
     "output_type": "execute_result"
    }
   ],
   "source": [
    "os.getcwd()"
   ]
  },
  {
   "cell_type": "markdown",
   "id": "3ac2d7cf-8e32-44ed-bda8-7e1d937f8368",
   "metadata": {},
   "source": [
    "The output is just shown above but not \"captured\". We can do that by assigning the output to a variable:"
   ]
  },
  {
   "cell_type": "code",
   "execution_count": 9,
   "id": "a716ba29-e05b-4717-9178-423a28277fc3",
   "metadata": {},
   "outputs": [],
   "source": [
    "cur_path = os.getcwd()"
   ]
  },
  {
   "cell_type": "code",
   "execution_count": 10,
   "id": "06a5c131-cfe4-437c-9cf5-3c372c841a77",
   "metadata": {},
   "outputs": [
    {
     "data": {
      "text/plain": [
       "'/Users/gw18g940/GoogleDrive/BernMIC/Trainings/DAVPy_intro/notebooks'"
      ]
     },
     "execution_count": 10,
     "metadata": {},
     "output_type": "execute_result"
    }
   ],
   "source": [
    "cur_path"
   ]
  },
  {
   "cell_type": "markdown",
   "id": "6ac9272b-aac6-4110-b1d9-edf7b639ebf1",
   "metadata": {},
   "source": [
    "As you see, in the above case there's no input variable. In general there can be either no input, one input or multiple inputs."
   ]
  },
  {
   "cell_type": "markdown",
   "id": "93cd85e6-1981-468a-b651-1a35b625f21e",
   "metadata": {},
   "source": [
    "## Packages\n",
    "\n",
    "In the examples above, we either defined a function ourselves or used one generally accessible in base Python but there is a third solution: **external packages**. These packages are collections of functions used in a specific domain that are made available to everyone via specialized online repositories. For example we will be using in this course a package called [numpy](https://numpy.org/) that provides essential functions and structures for scientific computing. For example if we want to compute the median of a list of numbers ```array_in```, we can then just use the ```median()``` function of numpy and apply it to an image ```array_out = median(im_in)```. The question is now: how do we access these functions?\n",
    "\n",
    "### Importing functions\n",
    "\n",
    "The answer is that we have to **import** the functions we want to use in a *given notebook* from a package to be able to use them. First the package needs to be **installed**. One of the most popular place where to find such packages is the PyPi repository. We can install packages from there using the following command either in a **terminal or directly in the notebook**. For example for [numpy](https://numpy.org/install/):\n"
   ]
  },
  {
   "cell_type": "code",
   "execution_count": null,
   "id": "718f4087-f3c6-4e10-9131-7955ffe86c9d",
   "metadata": {},
   "outputs": [],
   "source": [
    "numpy.median"
   ]
  },
  {
   "cell_type": "code",
   "execution_count": 13,
   "id": "ac1a908e-7e22-44fd-85cb-2176a9df8512",
   "metadata": {},
   "outputs": [
    {
     "name": "stdout",
     "output_type": "stream",
     "text": [
      "Requirement already satisfied: numpy in /Users/gw18g940/mambaforge/envs/DAVPy/lib/python3.9/site-packages (1.22.2)\n",
      "Note: you may need to restart the kernel to use updated packages.\n"
     ]
    }
   ],
   "source": [
    "pip install numpy"
   ]
  },
  {
   "cell_type": "markdown",
   "id": "c5b0754b-6cdc-4f89-9c6a-183d63c6f665",
   "metadata": {},
   "source": [
    "Once installed we can **import** the packakge in a notebook in the following way (note that the name of the package:"
   ]
  },
  {
   "cell_type": "code",
   "execution_count": 14,
   "id": "22e33c5c-73fb-4994-8f54-1ab1abb0f572",
   "metadata": {},
   "outputs": [],
   "source": [
    "import numpy"
   ]
  },
  {
   "cell_type": "markdown",
   "id": "6f8839a3-c3d1-417d-a869-bb1ccdf965a9",
   "metadata": {},
   "source": [
    "The import is valid for the **entire notebook**, we don't need that line in each cell. \n",
    "\n",
    "Now that we have imported the package we can access all function that we define in it using a *dot notation* ```numpy.myfun```. Most packages are organized into submodules and in that case to access functions of a submodule we use ```numpy.my_submodule.myfun```.\n",
    "\n",
    "For example to generate a number taken from a normal distribution we need the function ```normal``` of the ```random``` module of numpy:"
   ]
  },
  {
   "cell_type": "code",
   "execution_count": 17,
   "id": "49489077-42ae-4d89-a215-f28e4d580e98",
   "metadata": {},
   "outputs": [
    {
     "data": {
      "text/plain": [
       "-0.7323469427727526"
      ]
     },
     "execution_count": 17,
     "metadata": {},
     "output_type": "execute_result"
    }
   ],
   "source": [
    "numpy.random.normal()"
   ]
  },
  {
   "cell_type": "markdown",
   "id": "c41a467b-b604-4376-a4f6-59731fe28c41",
   "metadata": {},
   "source": [
    "Note that there are multiple ways to import packages. For example we could give another name to the package, using the ```as``` statement:"
   ]
  },
  {
   "cell_type": "code",
   "execution_count": 18,
   "id": "bb1372d6-b718-46e3-b1dd-09e83867f8e3",
   "metadata": {},
   "outputs": [],
   "source": [
    "import numpy.random as rd"
   ]
  },
  {
   "cell_type": "markdown",
   "id": "1fd24886-e45c-4fe2-bab0-0d54f4d207d6",
   "metadata": {},
   "source": [
    "Now if we want to use the ```normal``` function we would write:"
   ]
  },
  {
   "cell_type": "code",
   "execution_count": 19,
   "id": "4b879256-c6d6-447c-ab1b-28762e00c3e2",
   "metadata": {},
   "outputs": [
    {
     "data": {
      "text/plain": [
       "-1.7437457642623437"
      ]
     },
     "execution_count": 19,
     "metadata": {},
     "output_type": "execute_result"
    }
   ],
   "source": [
    "rd.normal()"
   ]
  },
  {
   "cell_type": "markdown",
   "id": "b1c2b0d1-d21a-47c8-a239-fdab9ac9fe98",
   "metadata": {},
   "source": [
    "We can also import only a certain submodule using:"
   ]
  },
  {
   "cell_type": "code",
   "execution_count": 20,
   "id": "e7e2e68d-3c1c-418c-88ed-51ceb2ede99b",
   "metadata": {},
   "outputs": [],
   "source": [
    "from numpy import random"
   ]
  },
  {
   "cell_type": "markdown",
   "id": "b1c1599e-1434-4d0d-b417-3aa1295790e1",
   "metadata": {},
   "source": [
    "And now we write:"
   ]
  },
  {
   "cell_type": "code",
   "execution_count": 21,
   "id": "7b8a1810-338d-4923-9598-3715df9201da",
   "metadata": {},
   "outputs": [
    {
     "data": {
      "text/plain": [
       "0.2692681240273183"
      ]
     },
     "execution_count": 21,
     "metadata": {},
     "output_type": "execute_result"
    }
   ],
   "source": [
    "random.normal()"
   ]
  },
  {
   "cell_type": "markdown",
   "id": "fa6edfb3-5b20-472a-8891-c034a595ac5a",
   "metadata": {},
   "source": [
    "Finally, we can import a **single** function like this:"
   ]
  },
  {
   "cell_type": "code",
   "execution_count": 22,
   "id": "82d94869-822a-4420-a405-93f70d7f5135",
   "metadata": {},
   "outputs": [],
   "source": [
    "from numpy.random import normal"
   ]
  },
  {
   "cell_type": "code",
   "execution_count": 23,
   "id": "e7595ff4-66ce-438b-8389-0cb1e788bd3c",
   "metadata": {},
   "outputs": [
    {
     "data": {
      "text/plain": [
       "-1.380476341973896"
      ]
     },
     "execution_count": 23,
     "metadata": {},
     "output_type": "execute_result"
    }
   ],
   "source": [
    "normal()"
   ]
  },
  {
   "cell_type": "markdown",
   "id": "9a615cea-795e-4764-ae38-b3a9494ab281",
   "metadata": {},
   "source": [
    "## Variables as objects\n",
    "\n",
    "In the Python world, variables are not \"just\" variables, they are actually more complex objects. So for example our variable ```my_text``` does indeed contain the text ```This is my text``` but it contains also additional features. The way to access those features is to use the dot notation ```my_text.some_feature```. There are two types of featues:\n",
    "- functions, called here methods, that do some computation or modify the variable itself\n",
    "- properties, that contain information about the variable\n",
    "\n",
    "For example the object ```my_text``` has a function attached to it that allows us to put all letters to lower case:"
   ]
  },
  {
   "cell_type": "code",
   "execution_count": 24,
   "id": "96059872-da49-4ee9-9820-2c7a8868a751",
   "metadata": {},
   "outputs": [],
   "source": [
    "my_text = 'This is my text'"
   ]
  },
  {
   "cell_type": "code",
   "execution_count": 25,
   "id": "55d380cf-de41-4feb-84bc-dcd069551780",
   "metadata": {},
   "outputs": [
    {
     "data": {
      "text/plain": [
       "'This is my text'"
      ]
     },
     "execution_count": 25,
     "metadata": {},
     "output_type": "execute_result"
    }
   ],
   "source": [
    "my_text"
   ]
  },
  {
   "cell_type": "code",
   "execution_count": 26,
   "id": "ccd20a98-b496-41bd-b2f3-afaba8d43f2f",
   "metadata": {},
   "outputs": [
    {
     "data": {
      "text/plain": [
       "'this is my text'"
      ]
     },
     "execution_count": 26,
     "metadata": {},
     "output_type": "execute_result"
    }
   ],
   "source": [
    "my_text.lower()"
   ]
  },
  {
   "cell_type": "markdown",
   "id": "ff0ff926-82be-40d6-ac75-6ba49f55370b",
   "metadata": {},
   "source": [
    "If we define a complex number:"
   ]
  },
  {
   "cell_type": "code",
   "execution_count": 27,
   "id": "46319d59-6ad1-44b6-9893-915bb6375c11",
   "metadata": {},
   "outputs": [],
   "source": [
    "a = 3 + 5j"
   ]
  },
  {
   "cell_type": "markdown",
   "id": "fa9c8ef9-b6ab-4184-9e94-851e7b49b058",
   "metadata": {},
   "source": [
    "then we can access the property ```real``` that gives us only the real part of the number:"
   ]
  },
  {
   "cell_type": "code",
   "execution_count": 28,
   "id": "0449769b-2e07-47e7-9b19-695b853b7864",
   "metadata": {},
   "outputs": [
    {
     "data": {
      "text/plain": [
       "3.0"
      ]
     },
     "execution_count": 28,
     "metadata": {},
     "output_type": "execute_result"
    }
   ],
   "source": [
    "a.real"
   ]
  },
  {
   "cell_type": "markdown",
   "id": "6e7e963a-a344-486e-89c1-cb123e7ef728",
   "metadata": {},
   "source": [
    "Note that when we use a method (function) we need to use the parenthesis, just like for regular functions, while for properties we don't."
   ]
  },
  {
   "cell_type": "markdown",
   "id": "0a08d41a-dac6-4052-844e-6a4ed02c3395",
   "metadata": {},
   "source": [
    "## Getting help\n",
    "\n",
    "If you are not sure what a function is supposed to do or what its arguments are, you have a few choices. First you can write the function and add a question mark:"
   ]
  },
  {
   "cell_type": "code",
   "execution_count": 29,
   "id": "5b56d0af-d654-46ac-af86-d28f3a774e33",
   "metadata": {},
   "outputs": [
    {
     "data": {
      "text/plain": [
       "\u001b[0;31mSignature:\u001b[0m \u001b[0mos\u001b[0m\u001b[0;34m.\u001b[0m\u001b[0mgetcwd\u001b[0m\u001b[0;34m(\u001b[0m\u001b[0;34m)\u001b[0m\u001b[0;34m\u001b[0m\u001b[0;34m\u001b[0m\u001b[0m\n",
       "\u001b[0;31mDocstring:\u001b[0m Return a unicode string representing the current working directory.\n",
       "\u001b[0;31mType:\u001b[0m      builtin_function_or_method\n"
      ]
     },
     "metadata": {},
     "output_type": "display_data"
    }
   ],
   "source": [
    "os.getcwd?"
   ]
  },
  {
   "cell_type": "markdown",
   "id": "f35ea218-0a89-47f9-a0bf-30a41d3ef70d",
   "metadata": {},
   "source": [
    "You can also place your cursor inside the function parenthesis and hit **Shift + Enter**. A window will open with a description of the function, its arguments etc. <img src='../illustrations/jupyter_help.png'>"
   ]
  },
  {
   "cell_type": "markdown",
   "id": "ae558ac8-4c05-4e7f-85cd-46a3e643120c",
   "metadata": {},
   "source": [
    "## Exercise\n",
    "\n",
    "1. Open a notebook \n",
    "2. Define a function which computes $f(x, y) = 3  * (x + y) ^2$ and test it with a few numbers\n",
    "3. There is a native Python module called ```sys```. Import it and get the property ```path``` of ```sys```.\n",
    "4. Import Pandas using ```import pandas as pd```\n",
    "5. Find help for the function ```pd.read_csv```"
   ]
  },
  {
   "cell_type": "code",
   "execution_count": null,
   "id": "b59d5a36-5b09-40e4-965b-e34ac8c5096d",
   "metadata": {},
   "outputs": [],
   "source": []
  }
 ],
 "metadata": {
  "kernelspec": {
   "display_name": "Python 3 (ipykernel)",
   "language": "python",
   "name": "python3"
  },
  "language_info": {
   "codemirror_mode": {
    "name": "ipython",
    "version": 3
   },
   "file_extension": ".py",
   "mimetype": "text/x-python",
   "name": "python",
   "nbconvert_exporter": "python",
   "pygments_lexer": "ipython3",
   "version": "3.9.10"
  }
 },
 "nbformat": 4,
 "nbformat_minor": 5
}
