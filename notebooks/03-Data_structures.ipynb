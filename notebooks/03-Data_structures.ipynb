{
 "cells": [
  {
   "cell_type": "markdown",
   "id": "2da1bcd7-48da-432b-8776-8279eb3e986c",
   "metadata": {},
   "source": [
    "# Data structures"
   ]
  },
  {
   "cell_type": "markdown",
   "id": "52ae3327-b811-49f4-8ec7-bced58ecfe08",
   "metadata": {},
   "source": [
    "In an analysis pipeline, having variables as single numbers or text is obviously not enough. We need \"containers\" that can contain more complex data. Think for example of n-dimensional matrices to contain image, tables to contain analysis outputs (e.g. size and intensity of detected objects).\n",
    "\n",
    "Some of the structures we will use come directly with Python (e.g. lists) while others are implemented by external packages, like Numpy arrays for images and Pandas dataframes for tables. We don't cover all details about these structures now but will explore them in more details in later notebooks. In particular we will come back to dataframes later on."
   ]
  },
  {
   "cell_type": "markdown",
   "id": "1815876a-d44a-4363-9373-87263ebac94f",
   "metadata": {},
   "source": [
    "## Native lists\n",
    "\n",
    "There are several different data structures that are available out of the box in Python. We have already seen lists. Those can contain any type of data, including other lists:"
   ]
  },
  {
   "cell_type": "code",
   "execution_count": 24,
   "id": "f7af16b8-2bd4-4a39-bfbe-2cd7840f3d1e",
   "metadata": {},
   "outputs": [],
   "source": [
    "mylist = ['a', 3, [0,1,3]]"
   ]
  },
  {
   "cell_type": "markdown",
   "id": "e8dad2f8-52db-4d4f-b25c-1d8af2b123e0",
   "metadata": {},
   "source": [
    "Once defined you can access and change elements by using their index **which starts at 0**:"
   ]
  },
  {
   "cell_type": "code",
   "execution_count": 2,
   "id": "ff96c781-e76b-4166-9bb6-a5fa621ea240",
   "metadata": {},
   "outputs": [
    {
     "data": {
      "text/plain": [
       "'a'"
      ]
     },
     "execution_count": 2,
     "metadata": {},
     "output_type": "execute_result"
    }
   ],
   "source": [
    "mylist[0]"
   ]
  },
  {
   "cell_type": "code",
   "execution_count": 3,
   "id": "f09ee155-cd7d-4bc8-8aa5-872c8570f363",
   "metadata": {},
   "outputs": [
    {
     "data": {
      "text/plain": [
       "[0, 1, 3]"
      ]
     },
     "execution_count": 3,
     "metadata": {},
     "output_type": "execute_result"
    }
   ],
   "source": [
    "mylist[2]"
   ]
  },
  {
   "cell_type": "code",
   "execution_count": 4,
   "id": "5f2f8b96-471e-4e01-95d8-9907830f14c2",
   "metadata": {},
   "outputs": [],
   "source": [
    "mylist[0] = 'b'"
   ]
  },
  {
   "cell_type": "code",
   "execution_count": 5,
   "id": "768a7d12-6c71-4e5f-85b5-288c02a0b14e",
   "metadata": {},
   "outputs": [
    {
     "data": {
      "text/plain": [
       "['b', 3, [0, 1, 3]]"
      ]
     },
     "execution_count": 5,
     "metadata": {},
     "output_type": "execute_result"
    }
   ],
   "source": [
    "mylist"
   ]
  },
  {
   "cell_type": "markdown",
   "id": "afeec318-ce2a-41b4-acf2-55e15b48691e",
   "metadata": {},
   "source": [
    "We can alos add elements to a list by *appending* them removing them by *popping* them:"
   ]
  },
  {
   "cell_type": "code",
   "execution_count": 6,
   "id": "9dcaead2-ae18-4534-b3bf-9c221fa4fc5b",
   "metadata": {},
   "outputs": [],
   "source": [
    "mylist.append('new element')"
   ]
  },
  {
   "cell_type": "code",
   "execution_count": 7,
   "id": "59b01b2d-41d0-4e6a-b310-e616932d09a8",
   "metadata": {},
   "outputs": [
    {
     "data": {
      "text/plain": [
       "['b', 3, [0, 1, 3], 'new element']"
      ]
     },
     "execution_count": 7,
     "metadata": {},
     "output_type": "execute_result"
    }
   ],
   "source": [
    "mylist"
   ]
  },
  {
   "cell_type": "code",
   "execution_count": 8,
   "id": "808f14e4-daa2-474d-908f-1d0e92c8c455",
   "metadata": {},
   "outputs": [
    {
     "data": {
      "text/plain": [
       "['b', [0, 1, 3], 'new element']"
      ]
     },
     "execution_count": 8,
     "metadata": {},
     "output_type": "execute_result"
    }
   ],
   "source": [
    "mylist.pop(1)\n",
    "\n",
    "mylist"
   ]
  },
  {
   "cell_type": "markdown",
   "id": "20f4d436-dd79-441f-bc04-9fa320910b57",
   "metadata": {},
   "source": [
    "List are typically obtained as an output for example of a function returning the size of objects in an image.\n",
    "\n",
    "If we think of an image that has multiple lines and columns of pixels, we could now imagine that we can represent it as a list of lists, each single list being e.g. one row pf pixels. For example a 3 x 3 image could be:"
   ]
  },
  {
   "cell_type": "code",
   "execution_count": 9,
   "id": "e633b169-10bc-4b6b-9142-9ea78d0d4590",
   "metadata": {},
   "outputs": [
    {
     "data": {
      "text/plain": [
       "[[4, 8, 7], [6, 4, 3], [5, 3, 7]]"
      ]
     },
     "execution_count": 9,
     "metadata": {},
     "output_type": "execute_result"
    }
   ],
   "source": [
    "my_image = [[4,8,7], [6,4,3], [5,3,7]]\n",
    "my_image"
   ]
  },
  {
   "cell_type": "markdown",
   "id": "4811ade0-972d-4b56-a26d-0d4bcfb9edbc",
   "metadata": {},
   "source": [
    "While in principle we could use a ```list``` for this, computations on such objects would be very slow. For example if we wanted to do background correction and subtract a given value from our image, effectively we would have to go through each element of our list (each pixel) one by one and sequentially remove the background from each pixel. If the background is 3 we would have therefore to compute:\n",
    "- 4-3\n",
    "- 8-3\n",
    "- 7-3\n",
    "- 6-3\n",
    "\n",
    "etc. Since operations are done sequentially this would be very slow as we couldn't exploit the fact that most computers have multiple processors. Also it would be tedious to write such an operation.\n",
    "\n",
    "To fix this, most scientific areas that use lists of numbers of some kind (time-series, images, measurements etc.) resort to an **external package** called ```Numpy``` which offers a **computationally efficient list** called an **array**."
   ]
  },
  {
   "cell_type": "markdown",
   "id": "de1ea91b-23d6-49dc-9ad8-0d194b120a4e",
   "metadata": {},
   "source": [
    "## Numpy arrays\n",
    "\n",
    "Almost all scientific numerical data are imported as Numpy arrays in the Python world. For example a temperature time-series will be a 1D array, the pixels of an image a 2D array etc. Numpy also offers functions to create such arrays. We have already seen the ```normal``` function:"
   ]
  },
  {
   "cell_type": "code",
   "execution_count": 10,
   "id": "60909bdc-a8ee-46cd-bc42-eb5d10afaedd",
   "metadata": {},
   "outputs": [],
   "source": [
    "import numpy as np"
   ]
  },
  {
   "cell_type": "code",
   "execution_count": 13,
   "id": "e18215ab-c993-475a-ad53-7c9cb0aa9f1c",
   "metadata": {},
   "outputs": [
    {
     "data": {
      "text/plain": [
       "array([[-0.15481049, -0.80405401, -0.43449909, -0.68704696,  2.85879912],\n",
       "       [-0.41553978,  1.46838885, -0.29594493, -0.37177195,  0.49944154],\n",
       "       [ 1.73138715,  0.68731187,  0.46140546,  0.36365711,  0.21998944],\n",
       "       [-0.44938328, -0.38079231, -0.30119992,  0.30452681, -2.02113752],\n",
       "       [ 0.15430836,  0.67539493, -0.17414324, -0.40051551, -1.13829721],\n",
       "       [ 1.03612902, -0.87117468, -1.21334862, -1.31875856, -0.34627066],\n",
       "       [ 1.44726028, -0.93629604,  1.83142843, -0.96262081, -0.39795731],\n",
       "       [ 1.58733939, -0.65552682, -0.81770623, -0.0419759 ,  0.44763988],\n",
       "       [ 2.7830692 , -2.21587893, -0.82228344,  0.21661245, -0.88040222],\n",
       "       [-0.3219425 , -0.66025536, -0.34081356, -1.47760924,  0.03162098]])"
      ]
     },
     "execution_count": 13,
     "metadata": {},
     "output_type": "execute_result"
    }
   ],
   "source": [
    "my_array = np.random.normal(size=(10,5))\n",
    "my_array"
   ]
  },
  {
   "cell_type": "markdown",
   "id": "cf70aca8-b276-43dd-8aa1-0bd6247c8b7a",
   "metadata": {},
   "source": [
    "We see that we also have ```[]``` to specify rows, columns etc. The main difference compared to our list of lists that we defined previously is the ```array``` indication at the very beginning of the list of numbers. This ```array``` indication tells us that we are dealing with a ```Numpy``` array, this alternative type of list of lists that will allow us to do efficient computations. Just as a quick example, if we want to subtract 10 from the list, we can just write:"
   ]
  },
  {
   "cell_type": "code",
   "execution_count": 14,
   "id": "e920b13f-de84-43db-989b-1cca3927afb0",
   "metadata": {},
   "outputs": [
    {
     "data": {
      "text/plain": [
       "array([[-10.15481049, -10.80405401, -10.43449909, -10.68704696,\n",
       "         -7.14120088],\n",
       "       [-10.41553978,  -8.53161115, -10.29594493, -10.37177195,\n",
       "         -9.50055846],\n",
       "       [ -8.26861285,  -9.31268813,  -9.53859454,  -9.63634289,\n",
       "         -9.78001056],\n",
       "       [-10.44938328, -10.38079231, -10.30119992,  -9.69547319,\n",
       "        -12.02113752],\n",
       "       [ -9.84569164,  -9.32460507, -10.17414324, -10.40051551,\n",
       "        -11.13829721],\n",
       "       [ -8.96387098, -10.87117468, -11.21334862, -11.31875856,\n",
       "        -10.34627066],\n",
       "       [ -8.55273972, -10.93629604,  -8.16857157, -10.96262081,\n",
       "        -10.39795731],\n",
       "       [ -8.41266061, -10.65552682, -10.81770623, -10.0419759 ,\n",
       "         -9.55236012],\n",
       "       [ -7.2169308 , -12.21587893, -10.82228344,  -9.78338755,\n",
       "        -10.88040222],\n",
       "       [-10.3219425 , -10.66025536, -10.34081356, -11.47760924,\n",
       "         -9.96837902]])"
      ]
     },
     "execution_count": 14,
     "metadata": {},
     "output_type": "execute_result"
    }
   ],
   "source": [
    "my_array - 10."
   ]
  },
  {
   "cell_type": "markdown",
   "id": "3657053f-b352-4f57-9f48-ebd583835eca",
   "metadata": {},
   "source": [
    "No need to write ```for``` loops to go through all values! \n",
    "\n",
    "We will learn much more on performing computations with these arrays in later chapters."
   ]
  },
  {
   "cell_type": "markdown",
   "id": "9f9e2d92-1bfc-416b-88b3-ea5d2bfb47a8",
   "metadata": {},
   "source": [
    "## Other simple structures\n",
    "\n",
    "During this course, we will encounter from time to time other types of containers. For example tuples. Those are defined with ```()``` and are immutable i.e. we can't change their values."
   ]
  },
  {
   "cell_type": "code",
   "execution_count": 15,
   "id": "3c2930d6-85ab-4fd2-9020-a68608b12027",
   "metadata": {},
   "outputs": [],
   "source": [
    "mytuple = (3, 'a')"
   ]
  },
  {
   "cell_type": "code",
   "execution_count": 16,
   "id": "1edb0b1b-1f17-46b7-9fd2-436cc0d1a5f1",
   "metadata": {},
   "outputs": [
    {
     "data": {
      "text/plain": [
       "(3, 'a')"
      ]
     },
     "execution_count": 16,
     "metadata": {},
     "output_type": "execute_result"
    }
   ],
   "source": [
    "mytuple"
   ]
  },
  {
   "cell_type": "code",
   "execution_count": 17,
   "id": "c3d350d9-c5f0-4548-a538-5189a531cfa8",
   "metadata": {},
   "outputs": [
    {
     "data": {
      "text/plain": [
       "3"
      ]
     },
     "execution_count": 17,
     "metadata": {},
     "output_type": "execute_result"
    }
   ],
   "source": [
    "mytuple[0]"
   ]
  },
  {
   "cell_type": "code",
   "execution_count": 18,
   "id": "9198f8b8-d6b7-4d0b-a38f-04481c6d2192",
   "metadata": {},
   "outputs": [
    {
     "ename": "TypeError",
     "evalue": "'tuple' object does not support item assignment",
     "output_type": "error",
     "traceback": [
      "\u001b[0;31m---------------------------------------------------------------------------\u001b[0m",
      "\u001b[0;31mTypeError\u001b[0m                                 Traceback (most recent call last)",
      "Input \u001b[0;32mIn [18]\u001b[0m, in \u001b[0;36m<module>\u001b[0;34m\u001b[0m\n\u001b[0;32m----> 1\u001b[0m mytuple[\u001b[38;5;241m0\u001b[39m] \u001b[38;5;241m=\u001b[39m \u001b[38;5;241m5\u001b[39m\n",
      "\u001b[0;31mTypeError\u001b[0m: 'tuple' object does not support item assignment"
     ]
    }
   ],
   "source": [
    "mytuple[0] = 5"
   ]
  },
  {
   "cell_type": "markdown",
   "id": "b1944519-eae8-46af-8b79-2e35ac9f0bf9",
   "metadata": {},
   "source": [
    "The last structures mentionned here is the dictionary, which is a list of key-words and their corresponding value. For example you might get this kind of structure as output of a function that provides different properties of analyzed objects. We define it with curly brackets. Each key-word can contain any type of content."
   ]
  },
  {
   "cell_type": "code",
   "execution_count": 19,
   "id": "c9182bdd-217b-42e8-a17f-1e181e2930a8",
   "metadata": {},
   "outputs": [],
   "source": [
    "mydict = {'area': [10, 12, 4], 'object_type': ['cell', 'nucleus', 'cell']}"
   ]
  },
  {
   "cell_type": "code",
   "execution_count": 20,
   "id": "be2ab75b-1ddb-4789-90d9-abf6255fb07c",
   "metadata": {},
   "outputs": [
    {
     "data": {
      "text/plain": [
       "{'area': [10, 12, 4], 'object_type': ['cell', 'nucleus', 'cell']}"
      ]
     },
     "execution_count": 20,
     "metadata": {},
     "output_type": "execute_result"
    }
   ],
   "source": [
    "mydict"
   ]
  },
  {
   "cell_type": "markdown",
   "id": "812cf1df-94a5-4e67-9be8-bd38a4a1664c",
   "metadata": {},
   "source": [
    "We can then access each element by key-word (instead of by index like in a list):"
   ]
  },
  {
   "cell_type": "code",
   "execution_count": 21,
   "id": "099a6488-cb7e-431a-bc7a-621c4dad70fd",
   "metadata": {},
   "outputs": [
    {
     "data": {
      "text/plain": [
       "[10, 12, 4]"
      ]
     },
     "execution_count": 21,
     "metadata": {},
     "output_type": "execute_result"
    }
   ],
   "source": [
    "mydict['area']"
   ]
  },
  {
   "cell_type": "markdown",
   "id": "22a03815-eefd-4f4a-af75-56340e1da8fe",
   "metadata": {},
   "source": [
    "## Exercise\n",
    "\n",
    "1. Create an empty list. Use the ```append``` mehod to add a few elements.\n",
    "2. Try to exract one element using indices. Make sure you get the correct one!\n",
    "3. Create dictionary containing one key for fruite names and one key for the fruit weight and fill it with 3 fruits. Make sure you can recover either the fruit names or the weight."
   ]
  },
  {
   "cell_type": "code",
   "execution_count": null,
   "id": "6bc44844-e005-418f-87af-63e94dbf7d84",
   "metadata": {},
   "outputs": [],
   "source": []
  }
 ],
 "metadata": {
  "kernelspec": {
   "display_name": "Python 3 (ipykernel)",
   "language": "python",
   "name": "python3"
  },
  "language_info": {
   "codemirror_mode": {
    "name": "ipython",
    "version": 3
   },
   "file_extension": ".py",
   "mimetype": "text/x-python",
   "name": "python",
   "nbconvert_exporter": "python",
   "pygments_lexer": "ipython3",
   "version": "3.9.10"
  }
 },
 "nbformat": 4,
 "nbformat_minor": 5
}
